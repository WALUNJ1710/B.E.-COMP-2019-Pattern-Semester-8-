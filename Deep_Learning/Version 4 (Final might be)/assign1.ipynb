{
 "cells": [
  {
   "cell_type": "code",
   "execution_count": 3,
   "id": "a0b169b6",
   "metadata": {},
   "outputs": [],
   "source": [
    "import numpy as np\n",
    "import pandas as pd\n",
    "import tensorflow as tf"
   ]
  },
  {
   "cell_type": "code",
   "execution_count": 4,
   "id": "fff136ce",
   "metadata": {},
   "outputs": [
    {
     "data": {
      "text/html": [
       "<div>\n",
       "<style scoped>\n",
       "    .dataframe tbody tr th:only-of-type {\n",
       "        vertical-align: middle;\n",
       "    }\n",
       "\n",
       "    .dataframe tbody tr th {\n",
       "        vertical-align: top;\n",
       "    }\n",
       "\n",
       "    .dataframe thead th {\n",
       "        text-align: right;\n",
       "    }\n",
       "</style>\n",
       "<table border=\"1\" class=\"dataframe\">\n",
       "  <thead>\n",
       "    <tr style=\"text-align: right;\">\n",
       "      <th></th>\n",
       "      <th>crim</th>\n",
       "      <th>zn</th>\n",
       "      <th>indus</th>\n",
       "      <th>chas</th>\n",
       "      <th>nox</th>\n",
       "      <th>rm</th>\n",
       "      <th>age</th>\n",
       "      <th>dis</th>\n",
       "      <th>rad</th>\n",
       "      <th>tax</th>\n",
       "      <th>ptratio</th>\n",
       "      <th>b</th>\n",
       "      <th>lstat</th>\n",
       "      <th>MEDV</th>\n",
       "    </tr>\n",
       "  </thead>\n",
       "  <tbody>\n",
       "    <tr>\n",
       "      <th>0</th>\n",
       "      <td>0.00632</td>\n",
       "      <td>18.0</td>\n",
       "      <td>2.31</td>\n",
       "      <td>0</td>\n",
       "      <td>0.538</td>\n",
       "      <td>6.575</td>\n",
       "      <td>65.2</td>\n",
       "      <td>4.0900</td>\n",
       "      <td>1</td>\n",
       "      <td>296</td>\n",
       "      <td>15.3</td>\n",
       "      <td>396.90</td>\n",
       "      <td>4.98</td>\n",
       "      <td>24.0</td>\n",
       "    </tr>\n",
       "    <tr>\n",
       "      <th>1</th>\n",
       "      <td>0.02731</td>\n",
       "      <td>0.0</td>\n",
       "      <td>7.07</td>\n",
       "      <td>0</td>\n",
       "      <td>0.469</td>\n",
       "      <td>6.421</td>\n",
       "      <td>78.9</td>\n",
       "      <td>4.9671</td>\n",
       "      <td>2</td>\n",
       "      <td>242</td>\n",
       "      <td>17.8</td>\n",
       "      <td>396.90</td>\n",
       "      <td>9.14</td>\n",
       "      <td>21.6</td>\n",
       "    </tr>\n",
       "    <tr>\n",
       "      <th>2</th>\n",
       "      <td>0.02729</td>\n",
       "      <td>0.0</td>\n",
       "      <td>7.07</td>\n",
       "      <td>0</td>\n",
       "      <td>0.469</td>\n",
       "      <td>7.185</td>\n",
       "      <td>61.1</td>\n",
       "      <td>4.9671</td>\n",
       "      <td>2</td>\n",
       "      <td>242</td>\n",
       "      <td>17.8</td>\n",
       "      <td>392.83</td>\n",
       "      <td>4.03</td>\n",
       "      <td>34.7</td>\n",
       "    </tr>\n",
       "    <tr>\n",
       "      <th>3</th>\n",
       "      <td>0.03237</td>\n",
       "      <td>0.0</td>\n",
       "      <td>2.18</td>\n",
       "      <td>0</td>\n",
       "      <td>0.458</td>\n",
       "      <td>6.998</td>\n",
       "      <td>45.8</td>\n",
       "      <td>6.0622</td>\n",
       "      <td>3</td>\n",
       "      <td>222</td>\n",
       "      <td>18.7</td>\n",
       "      <td>394.63</td>\n",
       "      <td>2.94</td>\n",
       "      <td>33.4</td>\n",
       "    </tr>\n",
       "    <tr>\n",
       "      <th>4</th>\n",
       "      <td>0.06905</td>\n",
       "      <td>0.0</td>\n",
       "      <td>2.18</td>\n",
       "      <td>0</td>\n",
       "      <td>0.458</td>\n",
       "      <td>7.147</td>\n",
       "      <td>54.2</td>\n",
       "      <td>6.0622</td>\n",
       "      <td>3</td>\n",
       "      <td>222</td>\n",
       "      <td>18.7</td>\n",
       "      <td>396.90</td>\n",
       "      <td>5.33</td>\n",
       "      <td>36.2</td>\n",
       "    </tr>\n",
       "  </tbody>\n",
       "</table>\n",
       "</div>"
      ],
      "text/plain": [
       "      crim    zn  indus  chas    nox     rm   age     dis  rad  tax  ptratio  \\\n",
       "0  0.00632  18.0   2.31     0  0.538  6.575  65.2  4.0900    1  296     15.3   \n",
       "1  0.02731   0.0   7.07     0  0.469  6.421  78.9  4.9671    2  242     17.8   \n",
       "2  0.02729   0.0   7.07     0  0.469  7.185  61.1  4.9671    2  242     17.8   \n",
       "3  0.03237   0.0   2.18     0  0.458  6.998  45.8  6.0622    3  222     18.7   \n",
       "4  0.06905   0.0   2.18     0  0.458  7.147  54.2  6.0622    3  222     18.7   \n",
       "\n",
       "        b  lstat  MEDV  \n",
       "0  396.90   4.98  24.0  \n",
       "1  396.90   9.14  21.6  \n",
       "2  392.83   4.03  34.7  \n",
       "3  394.63   2.94  33.4  \n",
       "4  396.90   5.33  36.2  "
      ]
     },
     "execution_count": 4,
     "metadata": {},
     "output_type": "execute_result"
    }
   ],
   "source": [
    "df=pd.read_csv(\"housing_1.csv\")\n",
    "df.head()"
   ]
  },
  {
   "cell_type": "code",
   "execution_count": 5,
   "id": "48848227",
   "metadata": {},
   "outputs": [
    {
     "data": {
      "text/plain": [
       "crim       0\n",
       "zn         0\n",
       "indus      0\n",
       "chas       0\n",
       "nox        0\n",
       "rm         0\n",
       "age        0\n",
       "dis        0\n",
       "rad        0\n",
       "tax        0\n",
       "ptratio    0\n",
       "b          0\n",
       "lstat      0\n",
       "MEDV       0\n",
       "dtype: int64"
      ]
     },
     "execution_count": 5,
     "metadata": {},
     "output_type": "execute_result"
    }
   ],
   "source": [
    "df.isnull().sum()"
   ]
  },
  {
   "cell_type": "code",
   "execution_count": 6,
   "id": "cbe9a77f",
   "metadata": {},
   "outputs": [
    {
     "data": {
      "text/plain": [
       "crim         3.613524\n",
       "zn          11.363636\n",
       "indus       11.136779\n",
       "chas         0.069170\n",
       "nox          0.554695\n",
       "rm           6.284634\n",
       "age         68.574901\n",
       "dis          3.795043\n",
       "rad          9.549407\n",
       "tax        408.237154\n",
       "ptratio     18.455534\n",
       "b          356.674032\n",
       "lstat       12.653063\n",
       "MEDV        22.532806\n",
       "dtype: float64"
      ]
     },
     "execution_count": 6,
     "metadata": {},
     "output_type": "execute_result"
    }
   ],
   "source": [
    "df.mean()"
   ]
  },
  {
   "cell_type": "code",
   "execution_count": 7,
   "id": "4f2730e5",
   "metadata": {},
   "outputs": [],
   "source": [
    "x=df.drop(\"MEDV\", axis=1)\n",
    "y=df[\"MEDV\"]"
   ]
  },
  {
   "cell_type": "code",
   "execution_count": 8,
   "id": "60dab03d",
   "metadata": {},
   "outputs": [],
   "source": [
    "from sklearn.preprocessing import MinMaxScaler\n",
    "scaler=MinMaxScaler()\n",
    "\n",
    "x_scaled=scaler.fit_transform(x)"
   ]
  },
  {
   "cell_type": "code",
   "execution_count": 9,
   "id": "71125f4a",
   "metadata": {},
   "outputs": [
    {
     "data": {
      "text/plain": [
       "array([[0.00000000e+00, 1.80000000e-01, 6.78152493e-02, ...,\n",
       "        2.87234043e-01, 1.00000000e+00, 8.96799117e-02],\n",
       "       [2.35922539e-04, 0.00000000e+00, 2.42302053e-01, ...,\n",
       "        5.53191489e-01, 1.00000000e+00, 2.04470199e-01],\n",
       "       [2.35697744e-04, 0.00000000e+00, 2.42302053e-01, ...,\n",
       "        5.53191489e-01, 9.89737254e-01, 6.34657837e-02],\n",
       "       ...,\n",
       "       [6.11892474e-04, 0.00000000e+00, 4.20454545e-01, ...,\n",
       "        8.93617021e-01, 1.00000000e+00, 1.07891832e-01],\n",
       "       [1.16072990e-03, 0.00000000e+00, 4.20454545e-01, ...,\n",
       "        8.93617021e-01, 9.91300620e-01, 1.31070640e-01],\n",
       "       [4.61841693e-04, 0.00000000e+00, 4.20454545e-01, ...,\n",
       "        8.93617021e-01, 1.00000000e+00, 1.69701987e-01]])"
      ]
     },
     "execution_count": 9,
     "metadata": {},
     "output_type": "execute_result"
    }
   ],
   "source": [
    "x_scaled"
   ]
  },
  {
   "cell_type": "code",
   "execution_count": 10,
   "id": "3cbc6b61",
   "metadata": {},
   "outputs": [],
   "source": [
    "from sklearn.model_selection import train_test_split\n",
    "x_train,x_test,y_train,y_test= train_test_split(x_scaled,y, test_size=0.3, random_state=42)"
   ]
  },
  {
   "cell_type": "code",
   "execution_count": 12,
   "id": "dba7683a",
   "metadata": {},
   "outputs": [
    {
     "data": {
      "text/plain": [
       "(354, 13)"
      ]
     },
     "execution_count": 12,
     "metadata": {},
     "output_type": "execute_result"
    }
   ],
   "source": [
    "x_train.shape"
   ]
  },
  {
   "cell_type": "code",
   "execution_count": 13,
   "id": "186369af",
   "metadata": {},
   "outputs": [
    {
     "data": {
      "text/plain": [
       "(13,)"
      ]
     },
     "execution_count": 13,
     "metadata": {},
     "output_type": "execute_result"
    }
   ],
   "source": [
    "x_train[0].shape"
   ]
  },
  {
   "cell_type": "code",
   "execution_count": 16,
   "id": "e0f9d167",
   "metadata": {},
   "outputs": [
    {
     "name": "stdout",
     "output_type": "stream",
     "text": [
      "WARNING:tensorflow:From C:\\python 39\\lib\\site-packages\\keras\\src\\optimizers\\__init__.py:309: The name tf.train.Optimizer is deprecated. Please use tf.compat.v1.train.Optimizer instead.\n",
      "\n"
     ]
    }
   ],
   "source": [
    "from tensorflow.keras.models import Sequential\n",
    "from tensorflow.keras.layers import *\n",
    "model=Sequential()\n",
    "model.add(Dense(128, activation= 'relu', input_shape= x_train[0].shape))\n",
    "model.add(Dense(64, activation= 'relu'))\n",
    "model.add(Dense(32, activation= 'relu'))\n",
    "model.add(Dense(16, activation= 'relu'))\n",
    "model.add(Dense(1, activation= 'linear'))\n",
    "\n",
    "model.compile(optimizer='adam', loss='mse', metrics=['mae'])"
   ]
  },
  {
   "cell_type": "code",
   "execution_count": 29,
   "id": "5ea50e0a",
   "metadata": {},
   "outputs": [
    {
     "name": "stdout",
     "output_type": "stream",
     "text": [
      "Epoch 1/50\n",
      "11/11 [==============================] - 0s 18ms/step - loss: 8.5215 - mae: 2.0880 - val_loss: 39.1070 - val_mae: 3.8849\n",
      "Epoch 2/50\n",
      "11/11 [==============================] - 0s 11ms/step - loss: 8.4963 - mae: 2.0730 - val_loss: 40.6883 - val_mae: 3.8995\n",
      "Epoch 3/50\n",
      "11/11 [==============================] - 0s 11ms/step - loss: 8.4250 - mae: 2.0751 - val_loss: 39.1162 - val_mae: 3.8299\n",
      "Epoch 4/50\n",
      "11/11 [==============================] - 0s 11ms/step - loss: 8.3048 - mae: 2.0433 - val_loss: 40.5849 - val_mae: 3.8444\n",
      "Epoch 5/50\n",
      "11/11 [==============================] - 0s 10ms/step - loss: 8.3281 - mae: 2.0958 - val_loss: 38.9761 - val_mae: 4.0025\n",
      "Epoch 6/50\n",
      "11/11 [==============================] - 0s 10ms/step - loss: 8.3845 - mae: 2.0650 - val_loss: 36.5147 - val_mae: 3.6928\n",
      "Epoch 7/50\n",
      "11/11 [==============================] - 0s 10ms/step - loss: 8.2923 - mae: 2.0863 - val_loss: 39.2290 - val_mae: 3.7889\n",
      "Epoch 8/50\n",
      "11/11 [==============================] - 0s 11ms/step - loss: 8.0404 - mae: 2.0458 - val_loss: 40.6103 - val_mae: 3.8488\n",
      "Epoch 9/50\n",
      "11/11 [==============================] - 0s 11ms/step - loss: 8.0609 - mae: 2.0466 - val_loss: 37.0000 - val_mae: 3.7269\n",
      "Epoch 10/50\n",
      "11/11 [==============================] - 0s 11ms/step - loss: 7.8251 - mae: 2.0164 - val_loss: 40.0761 - val_mae: 3.7779\n",
      "Epoch 11/50\n",
      "11/11 [==============================] - 0s 11ms/step - loss: 7.9558 - mae: 1.9933 - val_loss: 35.0149 - val_mae: 3.6579\n",
      "Epoch 12/50\n",
      "11/11 [==============================] - 0s 12ms/step - loss: 7.9725 - mae: 2.0315 - val_loss: 40.0649 - val_mae: 3.9596\n",
      "Epoch 13/50\n",
      "11/11 [==============================] - 0s 11ms/step - loss: 7.7375 - mae: 2.0009 - val_loss: 35.7752 - val_mae: 3.5894\n",
      "Epoch 14/50\n",
      "11/11 [==============================] - 0s 12ms/step - loss: 8.0467 - mae: 2.0552 - val_loss: 35.4957 - val_mae: 3.8509\n",
      "Epoch 15/50\n",
      "11/11 [==============================] - 0s 10ms/step - loss: 8.2897 - mae: 2.0748 - val_loss: 36.0687 - val_mae: 3.7207\n",
      "Epoch 16/50\n",
      "11/11 [==============================] - 0s 15ms/step - loss: 7.7591 - mae: 2.0099 - val_loss: 36.0805 - val_mae: 3.6262\n",
      "Epoch 17/50\n",
      "11/11 [==============================] - 0s 10ms/step - loss: 7.4886 - mae: 1.9888 - val_loss: 35.4905 - val_mae: 3.7992\n",
      "Epoch 18/50\n",
      "11/11 [==============================] - 0s 10ms/step - loss: 7.8244 - mae: 2.0079 - val_loss: 32.7174 - val_mae: 3.6121\n",
      "Epoch 19/50\n",
      "11/11 [==============================] - 0s 12ms/step - loss: 7.6794 - mae: 1.9932 - val_loss: 32.1138 - val_mae: 3.5599\n",
      "Epoch 20/50\n",
      "11/11 [==============================] - 0s 11ms/step - loss: 8.1111 - mae: 2.0806 - val_loss: 34.1795 - val_mae: 3.6535\n",
      "Epoch 21/50\n",
      "11/11 [==============================] - 0s 11ms/step - loss: 7.6305 - mae: 2.0110 - val_loss: 33.8516 - val_mae: 3.7139\n",
      "Epoch 22/50\n",
      "11/11 [==============================] - 0s 12ms/step - loss: 7.6687 - mae: 2.0055 - val_loss: 35.2094 - val_mae: 3.5996\n",
      "Epoch 23/50\n",
      "11/11 [==============================] - 0s 10ms/step - loss: 7.6800 - mae: 2.0343 - val_loss: 34.9955 - val_mae: 3.6076\n",
      "Epoch 24/50\n",
      "11/11 [==============================] - 0s 9ms/step - loss: 7.2152 - mae: 1.9794 - val_loss: 33.5396 - val_mae: 3.6264\n",
      "Epoch 25/50\n",
      "11/11 [==============================] - 0s 10ms/step - loss: 7.0247 - mae: 1.9301 - val_loss: 33.3467 - val_mae: 3.5660\n",
      "Epoch 26/50\n",
      "11/11 [==============================] - 0s 9ms/step - loss: 7.1509 - mae: 1.9516 - val_loss: 33.0619 - val_mae: 3.5535\n",
      "Epoch 27/50\n",
      "11/11 [==============================] - 0s 9ms/step - loss: 6.9606 - mae: 1.9275 - val_loss: 33.3398 - val_mae: 3.5579\n",
      "Epoch 28/50\n",
      "11/11 [==============================] - 0s 9ms/step - loss: 7.0942 - mae: 1.9660 - val_loss: 34.0333 - val_mae: 3.7175\n",
      "Epoch 29/50\n",
      "11/11 [==============================] - 0s 8ms/step - loss: 7.1244 - mae: 1.9458 - val_loss: 31.2762 - val_mae: 3.4853\n",
      "Epoch 30/50\n",
      "11/11 [==============================] - 0s 10ms/step - loss: 7.2672 - mae: 1.9996 - val_loss: 34.3631 - val_mae: 3.5303\n",
      "Epoch 31/50\n",
      "11/11 [==============================] - 0s 10ms/step - loss: 6.9428 - mae: 1.9510 - val_loss: 34.4451 - val_mae: 3.5230\n",
      "Epoch 32/50\n",
      "11/11 [==============================] - 0s 8ms/step - loss: 7.1401 - mae: 1.9588 - val_loss: 34.1549 - val_mae: 3.5269\n",
      "Epoch 33/50\n",
      "11/11 [==============================] - 0s 9ms/step - loss: 7.4787 - mae: 2.0416 - val_loss: 31.4132 - val_mae: 3.4966\n",
      "Epoch 34/50\n",
      "11/11 [==============================] - 0s 10ms/step - loss: 6.6077 - mae: 1.8776 - val_loss: 32.5407 - val_mae: 3.4624\n",
      "Epoch 35/50\n",
      "11/11 [==============================] - 0s 11ms/step - loss: 7.2161 - mae: 1.9798 - val_loss: 33.5062 - val_mae: 3.4599\n",
      "Epoch 36/50\n",
      "11/11 [==============================] - 0s 9ms/step - loss: 7.3082 - mae: 1.9751 - val_loss: 35.8671 - val_mae: 3.6783\n",
      "Epoch 37/50\n",
      "11/11 [==============================] - 0s 10ms/step - loss: 7.0536 - mae: 1.9911 - val_loss: 31.6926 - val_mae: 3.3895\n",
      "Epoch 38/50\n",
      "11/11 [==============================] - 0s 10ms/step - loss: 7.0248 - mae: 1.9948 - val_loss: 29.7564 - val_mae: 3.6025\n",
      "Epoch 39/50\n",
      "11/11 [==============================] - 0s 9ms/step - loss: 6.7162 - mae: 1.9262 - val_loss: 29.3949 - val_mae: 3.4213\n",
      "Epoch 40/50\n",
      "11/11 [==============================] - 0s 10ms/step - loss: 6.9510 - mae: 1.9593 - val_loss: 33.8212 - val_mae: 3.5579\n",
      "Epoch 41/50\n",
      "11/11 [==============================] - 0s 9ms/step - loss: 6.8348 - mae: 1.9164 - val_loss: 34.2177 - val_mae: 3.5624\n",
      "Epoch 42/50\n",
      "11/11 [==============================] - 0s 10ms/step - loss: 6.9473 - mae: 1.9388 - val_loss: 30.6537 - val_mae: 3.3520\n",
      "Epoch 43/50\n",
      "11/11 [==============================] - 0s 10ms/step - loss: 6.6523 - mae: 1.9195 - val_loss: 31.7674 - val_mae: 3.6636\n",
      "Epoch 44/50\n",
      "11/11 [==============================] - 0s 10ms/step - loss: 7.0773 - mae: 1.9632 - val_loss: 27.3293 - val_mae: 3.3715\n",
      "Epoch 45/50\n",
      "11/11 [==============================] - 0s 10ms/step - loss: 6.3946 - mae: 1.8882 - val_loss: 29.8552 - val_mae: 3.4747\n",
      "Epoch 46/50\n",
      "11/11 [==============================] - 0s 11ms/step - loss: 7.0265 - mae: 1.9813 - val_loss: 27.7665 - val_mae: 3.2555\n",
      "Epoch 47/50\n",
      "11/11 [==============================] - 0s 9ms/step - loss: 6.5745 - mae: 1.8750 - val_loss: 31.8959 - val_mae: 3.3982\n",
      "Epoch 48/50\n",
      "11/11 [==============================] - 0s 10ms/step - loss: 6.3630 - mae: 1.8776 - val_loss: 27.7159 - val_mae: 3.3361\n",
      "Epoch 49/50\n",
      "11/11 [==============================] - 0s 10ms/step - loss: 6.4204 - mae: 1.8953 - val_loss: 30.4015 - val_mae: 3.3823\n",
      "Epoch 50/50\n",
      "11/11 [==============================] - 0s 10ms/step - loss: 6.3251 - mae: 1.8686 - val_loss: 28.3308 - val_mae: 3.3374\n"
     ]
    }
   ],
   "source": [
    "history=model.fit(x_train,y_train, epochs=50, validation_split=0.05, verbose=1)"
   ]
  },
  {
   "cell_type": "code",
   "execution_count": 30,
   "id": "b3fe3cc6",
   "metadata": {},
   "outputs": [
    {
     "name": "stdout",
     "output_type": "stream",
     "text": [
      "Model: \"sequential_1\"\n",
      "_________________________________________________________________\n",
      " Layer (type)                Output Shape              Param #   \n",
      "=================================================================\n",
      " dense (Dense)               (None, 128)               1792      \n",
      "                                                                 \n",
      " dense_1 (Dense)             (None, 64)                8256      \n",
      "                                                                 \n",
      " dense_2 (Dense)             (None, 32)                2080      \n",
      "                                                                 \n",
      " dense_3 (Dense)             (None, 16)                528       \n",
      "                                                                 \n",
      " dense_4 (Dense)             (None, 1)                 17        \n",
      "                                                                 \n",
      "=================================================================\n",
      "Total params: 12673 (49.50 KB)\n",
      "Trainable params: 12673 (49.50 KB)\n",
      "Non-trainable params: 0 (0.00 Byte)\n",
      "_________________________________________________________________\n"
     ]
    }
   ],
   "source": [
    "model.summary()"
   ]
  },
  {
   "cell_type": "code",
   "execution_count": 31,
   "id": "a6146232",
   "metadata": {},
   "outputs": [
    {
     "name": "stdout",
     "output_type": "stream",
     "text": [
      "5/5 [==============================] - 0s 3ms/step - loss: 10.9442 - mae: 2.2528\n",
      "mse 10.944244384765625\n",
      "mae 2.2528045177459717\n"
     ]
    }
   ],
   "source": [
    "mse,mae=model.evaluate(x_test,y_test)\n",
    "print(\"mse\",mse)\n",
    "print(\"mae\",mae)\n"
   ]
  },
  {
   "cell_type": "code",
   "execution_count": 32,
   "id": "46ef1927",
   "metadata": {},
   "outputs": [
    {
     "data": {
      "image/png": "[encoded data removed]",
      "text/plain": [
       "<Figure size 640x480 with 1 Axes>"
      ]
     },
     "metadata": {},
     "output_type": "display_data"
    }
   ],
   "source": [
    "import matplotlib.pyplot as plt\n",
    "\n",
    "# Plot training & validation loss values\n",
    "plt.plot(history.history['loss'])\n",
    "plt.plot(history.history['val_loss'])\n",
    "plt.title('Model Loss')\n",
    "plt.xlabel('Epoch')\n",
    "plt.ylabel('Loss')\n",
    "plt.legend(['Train', 'Validation'], loc='upper left')\n",
    "plt.show()\n"
   ]
  },
  {
   "cell_type": "code",
   "execution_count": null,
   "id": "6c705243",
   "metadata": {},
   "outputs": [],
   "source": []
  }
 ],
 "metadata": {
  "kernelspec": {
   "display_name": "Python 3 (ipykernel)",
   "language": "python",
   "name": "python3"
  },
  "language_info": {
   "codemirror_mode": {
    "name": "ipython",
    "version": 3
   },
   "file_extension": ".py",
   "mimetype": "text/x-python",
   "name": "python",
   "nbconvert_exporter": "python",
   "pygments_lexer": "ipython3",
   "version": "3.9.7"
  }
 },
 "nbformat": 4,
 "nbformat_minor": 5
}
