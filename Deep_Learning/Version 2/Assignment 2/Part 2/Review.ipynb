{
 "cells": [
  {
   "cell_type": "code",
   "execution_count": 3,
   "id": "24f7854a",
   "metadata": {},
   "outputs": [
    {
     "name": "stdout",
     "output_type": "stream",
     "text": [
      "Epoch 1/5\n",
      "\u001b[1m782/782\u001b[0m \u001b[32m━━━━━━━━━━━━━━━━━━━━\u001b[0m\u001b[37m\u001b[0m \u001b[1m3s\u001b[0m 3ms/step - accuracy: 0.6496 - loss: 0.6051 - val_accuracy: 0.8521 - val_loss: 0.3355\n",
      "Epoch 2/5\n",
      "\u001b[1m782/782\u001b[0m \u001b[32m━━━━━━━━━━━━━━━━━━━━\u001b[0m\u001b[37m\u001b[0m \u001b[1m2s\u001b[0m 3ms/step - accuracy: 0.8990 - loss: 0.2593 - val_accuracy: 0.8541 - val_loss: 0.3302\n",
      "Epoch 3/5\n",
      "\u001b[1m782/782\u001b[0m \u001b[32m━━━━━━━━━━━━━━━━━━━━\u001b[0m\u001b[37m\u001b[0m \u001b[1m2s\u001b[0m 3ms/step - accuracy: 0.9550 - loss: 0.1508 - val_accuracy: 0.8532 - val_loss: 0.3465\n",
      "Epoch 4/5\n",
      "\u001b[1m782/782\u001b[0m \u001b[32m━━━━━━━━━━━━━━━━━━━━\u001b[0m\u001b[37m\u001b[0m \u001b[1m2s\u001b[0m 3ms/step - accuracy: 0.9885 - loss: 0.0696 - val_accuracy: 0.8487 - val_loss: 0.3763\n",
      "Epoch 5/5\n",
      "\u001b[1m782/782\u001b[0m \u001b[32m━━━━━━━━━━━━━━━━━━━━\u001b[0m\u001b[37m\u001b[0m \u001b[1m2s\u001b[0m 3ms/step - accuracy: 0.9982 - loss: 0.0304 - val_accuracy: 0.8452 - val_loss: 0.4138\n",
      "Training time: 11.594923734664917\n",
      "\u001b[1m782/782\u001b[0m \u001b[32m━━━━━━━━━━━━━━━━━━━━\u001b[0m\u001b[37m\u001b[0m \u001b[1m1s\u001b[0m 669us/step - accuracy: 0.8434 - loss: 0.4187\n",
      "Testing time: 0.5851564407348633\n"
     ]
    }
   ],
   "source": [
    "import tensorflow as tf\n",
    "from tensorflow.keras.datasets import imdb\n",
    "from tensorflow.keras.preprocessing.sequence import pad_sequences\n",
    "from tensorflow.keras.models import Sequential\n",
    "from tensorflow.keras.layers import Dense, Embedding, Flatten\n",
    "import time\n",
    "\n",
    "import tkinter as tk\n",
    "\n",
    "# Load IMDB dataset\n",
    "num_words = 10000  # Vocabulary size\n",
    "max_len = 100  # Maximum length of each review\n",
    "(x_train, y_train), (x_test, y_test) = imdb.load_data(num_words=num_words)\n",
    "\n",
    "# Pad sequences to make them of equal length\n",
    "x_train = pad_sequences(x_train, maxlen=max_len)\n",
    "x_test = pad_sequences(x_test, maxlen=max_len)\n",
    "\n",
    "# Build the model\n",
    "model = Sequential()\n",
    "model.add(Embedding(num_words, 32, input_length=max_len))\n",
    "model.add(Flatten())\n",
    "model.add(Dense(1, activation='sigmoid'))\n",
    "\n",
    "model.compile(optimizer='adam', loss='binary_crossentropy', metrics=['accuracy'])\n",
    "\n",
    "# Measure training time\n",
    "start_time = time.time()\n",
    "model.fit(x_train, y_train, epochs=5, batch_size=32, validation_data=(x_test, y_test))\n",
    "end_time = time.time()\n",
    "training_time = end_time - start_time\n",
    "print(\"Training time:\", training_time)\n",
    "\n",
    "# Measure testing time\n",
    "start_time = time.time()\n",
    "_, test_accuracy = model.evaluate(x_test, y_test)\n",
    "end_time = time.time()\n",
    "testing_time = end_time - start_time\n",
    "print(\"Testing time:\", testing_time)\n",
    "\n"
   ]
  },
  {
   "cell_type": "code",
   "execution_count": 2,
   "id": "13b6a5c7",
   "metadata": {},
   "outputs": [
    {
     "name": "stdout",
     "output_type": "stream",
     "text": [
      "\u001b[1m1/1\u001b[0m \u001b[32m━━━━━━━━━━━━━━━━━━━━\u001b[0m\u001b[37m\u001b[0m \u001b[1m0s\u001b[0m 62ms/step\n"
     ]
    }
   ],
   "source": [
    "# GUI using Tkinter\n",
    "def classify_review():\n",
    "    review = entry.get()\n",
    "    words = review.split()\n",
    "    encoded_review = [1]  # IMDB dataset starts encoding from 1\n",
    "    for word in words:\n",
    "        encoded_word = imdb.get_word_index().get(word.lower(), 0) + 3\n",
    "        if encoded_word < num_words:\n",
    "            encoded_review.append(encoded_word)\n",
    "    encoded_review = pad_sequences([encoded_review], maxlen=max_len)\n",
    "    prediction = model.predict(encoded_review)[0][0]\n",
    "    if prediction >= 0.5:\n",
    "        result_label.config(text=\"Positive review\")\n",
    "    else:\n",
    "        result_label.config(text=\"Negative review\")\n",
    "\n",
    "# Create GUI\n",
    "root = tk.Tk()\n",
    "root.title(\"Movie Review Classifier\")\n",
    "\n",
    "entry = tk.Entry(root, width=50)\n",
    "entry.pack(pady=10)\n",
    "\n",
    "classify_button = tk.Button(root, text=\"Classify\", command=classify_review)\n",
    "classify_button.pack(pady=5)\n",
    "\n",
    "result_label = tk.Label(root, text=\"\")\n",
    "result_label.pack(pady=5)\n",
    "\n",
    "root.mainloop()\n"
   ]
  },
  {
   "cell_type": "code",
   "execution_count": null,
   "id": "ff89d358",
   "metadata": {},
   "outputs": [],
   "source": []
  }
 ],
 "metadata": {
  "kernelspec": {
   "display_name": "Python 3 (ipykernel)",
   "language": "python",
   "name": "python3"
  },
  "language_info": {
   "codemirror_mode": {
    "name": "ipython",
    "version": 3
   },
   "file_extension": ".py",
   "mimetype": "text/x-python",
   "name": "python",
   "nbconvert_exporter": "python",
   "pygments_lexer": "ipython3",
   "version": "3.10.9"
  }
 },
 "nbformat": 4,
 "nbformat_minor": 5
}
