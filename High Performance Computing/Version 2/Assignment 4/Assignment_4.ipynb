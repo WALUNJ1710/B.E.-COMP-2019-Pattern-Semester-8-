{
  "nbformat": 4,
  "nbformat_minor": 0,
  "metadata": {
    "colab": {
      "provenance": [],
      "gpuType": "T4"
    },
    "kernelspec": {
      "name": "python3",
      "display_name": "Python 3"
    },
    "language_info": {
      "name": "python"
    },
    "accelerator": "GPU"
  },
  "cells": [
    {
      "cell_type": "code",
      "source": [
        "!pip install git+https://github.com/afnan47/cuda.git"
      ],
      "metadata": {
        "colab": {
          "base_uri": "https://localhost:8080/"
        },
        "id": "Xoha32BWEZzo",
        "outputId": "05ffef44-6142-4b54-c430-1f97edf01f2f"
      },
      "execution_count": 1,
      "outputs": [
        {
          "output_type": "stream",
          "name": "stdout",
          "text": [
            "Collecting git+https://github.com/afnan47/cuda.git\n",
            "  Cloning https://github.com/afnan47/cuda.git to /tmp/pip-req-build-r0djx1pi\n",
            "  Running command git clone --filter=blob:none --quiet https://github.com/afnan47/cuda.git /tmp/pip-req-build-r0djx1pi\n",
            "  Resolved https://github.com/afnan47/cuda.git to commit aac710a35f52bb78ab34d2e52517237941399eff\n",
            "  Preparing metadata (setup.py) ... \u001b[?25l\u001b[?25hdone\n",
            "Building wheels for collected packages: NVCCPlugin\n",
            "  Building wheel for NVCCPlugin (setup.py) ... \u001b[?25l\u001b[?25hdone\n",
            "  Created wheel for NVCCPlugin: filename=NVCCPlugin-0.0.2-py3-none-any.whl size=4289 sha256=e1d92dc2a3bed0eca4ce3821d77ec38389651016744eb842e4789c41a9bec020\n",
            "  Stored in directory: /tmp/pip-ephem-wheel-cache-yqlfx9xi/wheels/aa/f3/44/e10c1d226ec561d971fcd4b0463f6bff08602afa928a3e7bc7\n",
            "Successfully built NVCCPlugin\n",
            "Installing collected packages: NVCCPlugin\n",
            "Successfully installed NVCCPlugin-0.0.2\n"
          ]
        }
      ]
    },
    {
      "cell_type": "code",
      "source": [
        "%load_ext nvcc_plugin"
      ],
      "metadata": {
        "colab": {
          "base_uri": "https://localhost:8080/"
        },
        "id": "FJA7vJq5ElBR",
        "outputId": "4a11f027-479a-445f-c8a9-d43474e7a5bd"
      },
      "execution_count": 2,
      "outputs": [
        {
          "output_type": "stream",
          "name": "stdout",
          "text": [
            "created output directory at /content/src\n",
            "Out bin /content/result.out\n"
          ]
        }
      ]
    },
    {
      "cell_type": "markdown",
      "source": [
        "1. Vector Addition Program"
      ],
      "metadata": {
        "id": "uMDDl5d2FBjM"
      }
    },
    {
      "cell_type": "code",
      "source": [
        "%%cu\n",
        "#include <iostream>\n",
        "using namespace std;\n",
        "__global__\n",
        "void add(int* A, int* B, int* C, int size) {\n",
        "int tid = blockIdx.x * blockDim.x + threadIdx.x;\n",
        "if (tid < size) {\n",
        "C[tid] = A[tid] + B[tid];\n",
        "}\n",
        "}\n",
        "void initialize(int* vector, int size) {\n",
        "for (int i = 0; i < size; i++) {\n",
        "vector[i] = rand() % 10;\n",
        "}\n",
        "}\n",
        "void print(int* vector, int size) {\n",
        "for (int i = 0; i < size; i++) {\n",
        "cout << vector[i] << \" \";\n",
        "}\n",
        "cout << endl;\n",
        "}\n",
        "int main() {\n",
        "int N = 5;int* A, * B, * C;\n",
        "int vectorSize = N;\n",
        "size_t vectorBytes = vectorSize * sizeof(int);\n",
        "A = new int[vectorSize];\n",
        "B = new int[vectorSize];\n",
        "C = new int[vectorSize];\n",
        "initialize(A, vectorSize);\n",
        "initialize(B, vectorSize);\n",
        "cout << \"Vector A: \";\n",
        "print(A, N);\n",
        "cout << \"Vector B: \";\n",
        "print(B, N);\n",
        "int* X, * Y, * Z;\n",
        "cudaMalloc(&X, vectorBytes);\n",
        "cudaMalloc(&Y, vectorBytes);\n",
        "cudaMalloc(&Z, vectorBytes);\n",
        "cudaMemcpy(X, A, vectorBytes, cudaMemcpyHostToDevice);\n",
        "cudaMemcpy(Y, B, vectorBytes, cudaMemcpyHostToDevice);\n",
        "int threadsPerBlock = 256;\n",
        "int blocksPerGrid = (N + threadsPerBlock - 1) / threadsPerBlock;\n",
        "add<<<blocksPerGrid, threadsPerBlock>>>(X, Y, Z, N);\n",
        "cudaMemcpy(C, Z, vectorBytes, cudaMemcpyDeviceToHost);\n",
        "cout << \"Addition: \";\n",
        "print(C, N);\n",
        "delete[] A;\n",
        "delete[] B;\n",
        "delete[] C;\n",
        "cudaFree(X);\n",
        "cudaFree(Y);\n",
        "cudaFree(Z);\n",
        "return 0;\n",
        "}"
      ],
      "metadata": {
        "colab": {
          "base_uri": "https://localhost:8080/"
        },
        "id": "oSbZ_V63Emwn",
        "outputId": "f5dc1bcb-3268-469a-80c1-3c3fd43f9df9"
      },
      "execution_count": 10,
      "outputs": [
        {
          "output_type": "stream",
          "name": "stdout",
          "text": [
            "Vector A: 3 6 7 5 3 \n",
            "Vector B: 5 6 2 9 1 \n",
            "Addition: 8 12 9 14 4 \n",
            "\n"
          ]
        }
      ]
    },
    {
      "cell_type": "markdown",
      "source": [
        "2. Matrix multiplication"
      ],
      "metadata": {
        "id": "MqkXY-GKFM-i"
      }
    },
    {
      "cell_type": "code",
      "source": [
        "%%cu\n",
        "#include <iostream>\n",
        "#include <cuda.h>\n",
        "using namespace std;\n",
        "#define BLOCK_SIZE 2\n",
        "__global__ void gpuMM(float *A, float *B, float *C, int N)\n",
        "{\n",
        "// Matrix multiplication for NxN matrices C=A*B\n",
        "// Each thread computes a single element of C\n",
        "int row = blockIdx.y*blockDim.y + threadIdx.y;\n",
        "int col = blockIdx.x*blockDim.x + threadIdx.x;\n",
        "float sum = 0.f;for (int n = 0; n < N; ++n)\n",
        "sum += A[row*N+n]*B[n*N+col];\n",
        "C[row*N+col] = sum;\n",
        "}\n",
        "int main(int argc, char *argv[])\n",
        "{int N;float K;\n",
        "// Perform matrix multiplication C = A*B\n",
        "// where A, B and C are NxN matrices\n",
        "// Restricted to matrices where N = K*BLOCK_SIZE;\n",
        "cout<<\"Enter a Value for Size/2 of matrix\";\n",
        "cin>>K;\n",
        "K = 1;\n",
        "N = K*BLOCK_SIZE;\n",
        "cout << \"\\n Executing Matrix Multiplcation\" << endl;\n",
        "cout << \"\\n Matrix size: \" << N << \"x\" << N << endl;\n",
        "// Allocate memory on the host\n",
        "float *hA,*hB,*hC;\n",
        "hA = new float[N*N];\n",
        "hB = new float[N*N];\n",
        "hC = new float[N*N];\n",
        "// Initialize matrices on the host\n",
        "for (int j=0; j<N; j++){\n",
        "for (int i=0; i<N; i++){\n",
        "hA[j*N+i] = 2;\n",
        "hB[j*N+i] = 4;\n",
        "}\n",
        "}// Allocate memory on the device\n",
        "int size = N*N*sizeof(float); // Size of the memory in bytes\n",
        "float *dA,*dB,*dC;\n",
        "cudaMalloc(&dA,size);\n",
        "cudaMalloc(&dB,size);\n",
        "cudaMalloc(&dC,size);\n",
        "dim3 threadBlock(BLOCK_SIZE,BLOCK_SIZE);\n",
        "dim3 grid(K,K);\n",
        "cout<<\"\\n Input Matrix 1 \\n\";\n",
        "for (int row=0; row<N; row++){\n",
        "for (int col=0; col<N; col++){\n",
        "cout<<hA[row*col]<<\" \";\n",
        "}\n",
        "cout<<endl;\n",
        "}\n",
        "cout<<\"\\n Input Matrix 2 \\n\";\n",
        "for (int row=0; row<N; row++){\n",
        "for (int col=0; col<N; col++){\n",
        "cout<<hB[row*col]<<\" \";\n",
        "}\n",
        "cout<<endl;\n",
        "}\n",
        "// Copy matrices from the host to device\n",
        "cudaMemcpy(dA,hA,size,cudaMemcpyHostToDevice);\n",
        "cudaMemcpy(dB,hB,size,cudaMemcpyHostToDevice);\n",
        "//Execute the matrix multiplication kernel\n",
        "gpuMM<<<grid,threadBlock>>>(dA,dB,dC,N);// Now do the matrix multiplication on the CPU\n",
        "/*float sum;\n",
        "for (int row=0; row<N; row++){\n",
        "for (int col=0; col<N; col++){\n",
        "sum = 0.f;\n",
        "for (int n=0; n<N; n++){\n",
        "sum += hA[row*N+n]*hB[n*N+col];\n",
        "}\n",
        "hC[row*N+col] = sum;\n",
        "cout << sum <<\" \";\n",
        "}\n",
        "cout<<endl;\n",
        "}*/\n",
        "// Allocate memory to store the GPU answer on the host\n",
        "float *C;\n",
        "C = new float[N*N];\n",
        "// Now copy the GPU result back to CPU\n",
        "cudaMemcpy(C,dC,size,cudaMemcpyDeviceToHost);\n",
        "// Check the result and make sure it is correct\n",
        "cout <<\"\\n\\n\\n\\n\\n Resultant matrix\\n\\n\";\n",
        "for (int row=0; row<N; row++){\n",
        "for (int col=0; col<N; col++){\n",
        "cout<<C[row*col]<<\" \";\n",
        "}\n",
        "cout<<endl;\n",
        "}\n",
        "cout << \"Finished.\" << endl;\n",
        "}"
      ],
      "metadata": {
        "colab": {
          "base_uri": "https://localhost:8080/"
        },
        "id": "zv-CeYH8Eu8-",
        "outputId": "4992c751-c008-4391-f527-14984a5a5496"
      },
      "execution_count": 11,
      "outputs": [
        {
          "output_type": "stream",
          "name": "stdout",
          "text": [
            "Enter a Value for Size/2 of matrix\n",
            " Executing Matrix Multiplcation\n",
            "\n",
            " Matrix size: 2x2\n",
            "\n",
            " Input Matrix 1 \n",
            "2 2 \n",
            "2 2 \n",
            "\n",
            " Input Matrix 2 \n",
            "4 4 \n",
            "4 4 \n",
            "\n",
            "\n",
            "\n",
            "\n",
            "\n",
            " Resultant matrix\n",
            "\n",
            "16 16 \n",
            "16 16 \n",
            "Finished.\n",
            "\n"
          ]
        }
      ]
    }
  ]
}
