{
  "nbformat": 4,
  "nbformat_minor": 0,
  "metadata": {
    "colab": {
      "provenance": [],
      "gpuType": "T4",
      "authorship_tag": "ABX9TyNo39jhRj1SRLGKE8VFmsQF",
      "include_colab_link": true
    },
    "kernelspec": {
      "name": "python3",
      "display_name": "Python 3"
    },
    "language_info": {
      "name": "python"
    },
    "accelerator": "GPU"
  },
  "cells": [
    {
      "cell_type": "markdown",
      "metadata": {
        "id": "view-in-github",
        "colab_type": "text"
      },
      "source": [
        "<a href=\"https://colab.research.google.com/github/Abhi-v-b/LP-5/blob/main/HPC/Assignment%202/Bubble_sort.ipynb\" target=\"_parent\"><img src=\"https://colab.research.google.com/assets/colab-badge.svg\" alt=\"Open In Colab\"/></a>"
      ]
    },
    {
      "cell_type": "code",
      "execution_count": 1,
      "metadata": {
        "colab": {
          "base_uri": "https://localhost:8080/"
        },
        "id": "jnIy1YwidaM2",
        "outputId": "bc8c4c34-e071-47b7-de12-d5dd3bab03ec"
      },
      "outputs": [
        {
          "output_type": "stream",
          "name": "stdout",
          "text": [
            "nvcc: NVIDIA (R) Cuda compiler driver\n",
            "Copyright (c) 2005-2023 NVIDIA Corporation\n",
            "Built on Tue_Aug_15_22:02:13_PDT_2023\n",
            "Cuda compilation tools, release 12.2, V12.2.140\n",
            "Build cuda_12.2.r12.2/compiler.33191640_0\n"
          ]
        }
      ],
      "source": [
        "!nvcc --version"
      ]
    },
    {
      "cell_type": "code",
      "source": [
        "!pip install git+https://github.com/afnan47/cuda.git"
      ],
      "metadata": {
        "colab": {
          "base_uri": "https://localhost:8080/"
        },
        "id": "t98ILod7eXy2",
        "outputId": "78af964b-278e-4703-bca7-0354e875a96c"
      },
      "execution_count": 2,
      "outputs": [
        {
          "output_type": "stream",
          "name": "stdout",
          "text": [
            "Collecting git+https://github.com/afnan47/cuda.git\n",
            "  Cloning https://github.com/afnan47/cuda.git to /tmp/pip-req-build-isd5oaeg\n",
            "  Running command git clone --filter=blob:none --quiet https://github.com/afnan47/cuda.git /tmp/pip-req-build-isd5oaeg\n",
            "  Resolved https://github.com/afnan47/cuda.git to commit aac710a35f52bb78ab34d2e52517237941399eff\n",
            "  Preparing metadata (setup.py) ... \u001b[?25l\u001b[?25hdone\n",
            "Building wheels for collected packages: NVCCPlugin\n",
            "  Building wheel for NVCCPlugin (setup.py) ... \u001b[?25l\u001b[?25hdone\n",
            "  Created wheel for NVCCPlugin: filename=NVCCPlugin-0.0.2-py3-none-any.whl size=4289 sha256=f7f5723d2d521f1eaa3c15505c6fc17a6f3303506f651e91874675c1d6bdb85c\n",
            "  Stored in directory: /tmp/pip-ephem-wheel-cache-190hx4og/wheels/aa/f3/44/e10c1d226ec561d971fcd4b0463f6bff08602afa928a3e7bc7\n",
            "Successfully built NVCCPlugin\n",
            "Installing collected packages: NVCCPlugin\n",
            "Successfully installed NVCCPlugin-0.0.2\n"
          ]
        }
      ]
    },
    {
      "cell_type": "code",
      "source": [
        "%load_ext nvcc_plugin"
      ],
      "metadata": {
        "colab": {
          "base_uri": "https://localhost:8080/"
        },
        "id": "REtmB8DNedAp",
        "outputId": "11b750da-3749-48a1-d2ff-774c709abf41"
      },
      "execution_count": 3,
      "outputs": [
        {
          "output_type": "stream",
          "name": "stdout",
          "text": [
            "created output directory at /content/src\n",
            "Out bin /content/result.out\n"
          ]
        }
      ]
    },
    {
      "cell_type": "code",
      "source": [
        "%%writefile bubblesort.cu\n",
        "\n",
        "#include <stdio.h>\n",
        "#include <time.h>\n",
        "#include <cuda.h>\n",
        "\n",
        "#define N 10\n",
        "\n",
        "__global__ void bubbleSortParallel(int *arr) {\n",
        "    __shared__ int temp[N];\n",
        "    int index = threadIdx.x + blockIdx.x * blockDim.x;\n",
        "    int stride = blockDim.x * gridDim.x;\n",
        "\n",
        "    for (int i = 0; i < N / stride; i++) {\n",
        "        temp[index] = arr[index];\n",
        "        if (index + stride < N && arr[index] > arr[index + stride]) {\n",
        "            temp[index + stride] = arr[index];\n",
        "            arr[index] = arr[index + stride];\n",
        "            arr[index + stride] = temp[index];\n",
        "        }\n",
        "        if (index + 1 < N && arr[index] > arr[index + 1]) {\n",
        "            temp[index + 1] = arr[index];\n",
        "            arr[index] = arr[index + 1];\n",
        "            arr[index + 1] = temp[index];\n",
        "        }\n",
        "    }\n",
        "}\n",
        "\n",
        "void bubbleSortSequential(int *arr) {\n",
        "    for (int i = 0; i < N; i++) {\n",
        "        for (int j = 0; j < N - i - 1; j++) {\n",
        "            if (arr[j] > arr[j + 1]) {\n",
        "                int temp = arr[j];\n",
        "                arr[j] = arr[j + 1];\n",
        "                arr[j + 1] = temp;\n",
        "            }\n",
        "        }\n",
        "    }\n",
        "}\n",
        "\n",
        "void printArray(int *arr) {\n",
        "    for (int i = 0; i < N; i++) {\n",
        "        printf(\"%d  \", arr[i]);\n",
        "    }\n",
        "    printf(\"\\n\");\n",
        "}\n",
        "\n",
        "int main() {\n",
        "    int *arr, *d_arr;\n",
        "    cudaEvent_t start, stop;\n",
        "    float time;\n",
        "\n",
        "    arr = (int *)malloc(N * sizeof(int));\n",
        "    for (int i = 0; i < N; i++) {\n",
        "        arr[i] = rand() % 100;\n",
        "    }\n",
        "\n",
        "    cudaMalloc((void **)&d_arr, N * sizeof(int));\n",
        "    cudaMemcpy(d_arr, arr, N * sizeof(int), cudaMemcpyHostToDevice);\n",
        "\n",
        "    printf(\"Array before sorting:\\n\");\n",
        "    printArray(arr);\n",
        "\n",
        "    cudaEventCreate(&start);\n",
        "    cudaEventCreate(&stop);\n",
        "\n",
        "    cudaEventRecord(start);\n",
        "    bubbleSortSequential(arr);\n",
        "    cudaEventRecord(stop);\n",
        "    cudaEventSynchronize(stop);\n",
        "    cudaEventElapsedTime(&time, start, stop);\n",
        "    printf(\"\\nArray after sequential sorting:\\n\");\n",
        "    printArray(arr);\n",
        "    printf(\"Sequential execution time: %f ms\\n\", time);\n",
        "\n",
        "\n",
        "    cudaEventRecord(start);\n",
        "    bubbleSortParallel<<<N/32, 32>>>(d_arr);\n",
        "    cudaEventRecord(stop);\n",
        "    cudaEventSynchronize(stop);\n",
        "    cudaEventElapsedTime(&time, start, stop);\n",
        "    printf(\"\\nArray after parallel sorting:\\n\");\n",
        "    printArray(arr);\n",
        "    printf(\"Parallel execution time: %f ms\\n\", time);\n",
        "\n",
        "    cudaMemcpy(arr, d_arr, N * sizeof(int), cudaMemcpyDeviceToHost);\n",
        "\n",
        "    cudaFree(d_arr);\n",
        "    free(arr);\n",
        "\n",
        "    return 0;\n",
        "}"
      ],
      "metadata": {
        "colab": {
          "base_uri": "https://localhost:8080/"
        },
        "id": "G6FUgH_neiz3",
        "outputId": "425a399b-c7e3-4a9a-ad33-5f8aa8284084"
      },
      "execution_count": 12,
      "outputs": [
        {
          "output_type": "stream",
          "name": "stdout",
          "text": [
            "Overwriting bubblesort.cu\n"
          ]
        }
      ]
    },
    {
      "cell_type": "code",
      "source": [
        "!nvcc bubblesort.cu -o bubble"
      ],
      "metadata": {
        "id": "LBCY0jHVeuOd"
      },
      "execution_count": 13,
      "outputs": []
    },
    {
      "cell_type": "code",
      "source": [
        "!./bubble"
      ],
      "metadata": {
        "colab": {
          "base_uri": "https://localhost:8080/"
        },
        "id": "FXUmVHP4ex5G",
        "outputId": "8bccde93-7458-4f4f-facf-c3da16e275f0"
      },
      "execution_count": 14,
      "outputs": [
        {
          "output_type": "stream",
          "name": "stdout",
          "text": [
            "Array before sorting:\n",
            "83  86  77  15  93  35  86  92  49  21  \n",
            "\n",
            "Array after sequential sorting:\n",
            "15  21  35  49  77  83  86  86  92  93  \n",
            "Sequential execution time: 0.002464 ms\n",
            "\n",
            "Array after parallel sorting:\n",
            "15  21  35  49  77  83  86  86  92  93  \n",
            "Parallel execution time: 46.907745 ms\n"
          ]
        }
      ]
    }
  ]
}