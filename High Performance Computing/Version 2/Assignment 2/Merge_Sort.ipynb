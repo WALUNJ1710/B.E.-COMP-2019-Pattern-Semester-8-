{
  "nbformat": 4,
  "nbformat_minor": 0,
  "metadata": {
    "colab": {
      "provenance": [],
      "gpuType": "T4"
    },
    "kernelspec": {
      "name": "python3",
      "display_name": "Python 3"
    },
    "language_info": {
      "name": "python"
    },
    "accelerator": "GPU"
  },
  "cells": [
    {
      "cell_type": "code",
      "execution_count": 1,
      "metadata": {
        "colab": {
          "base_uri": "https://localhost:8080/"
        },
        "id": "ssXNfQ3tusIy",
        "outputId": "87a55dbd-5fad-4144-cdeb-80487e244cfa"
      },
      "outputs": [
        {
          "output_type": "stream",
          "name": "stdout",
          "text": [
            "nvcc: NVIDIA (R) Cuda compiler driver\n",
            "Copyright (c) 2005-2023 NVIDIA Corporation\n",
            "Built on Tue_Aug_15_22:02:13_PDT_2023\n",
            "Cuda compilation tools, release 12.2, V12.2.140\n",
            "Build cuda_12.2.r12.2/compiler.33191640_0\n"
          ]
        }
      ],
      "source": [
        "!nvcc --version"
      ]
    },
    {
      "cell_type": "code",
      "source": [
        "\n",
        "pip install git+https://github.com/afnan47/cuda.git"
      ],
      "metadata": {
        "colab": {
          "base_uri": "https://localhost:8080/"
        },
        "id": "ZnGtTmc3uxCL",
        "outputId": "343c9c82-0c85-43a6-c0c7-e139aadf0d1c"
      },
      "execution_count": 2,
      "outputs": [
        {
          "output_type": "stream",
          "name": "stdout",
          "text": [
            "Collecting git+https://github.com/afnan47/cuda.git\n",
            "  Cloning https://github.com/afnan47/cuda.git to /tmp/pip-req-build-3rjl4pxi\n",
            "  Running command git clone --filter=blob:none --quiet https://github.com/afnan47/cuda.git /tmp/pip-req-build-3rjl4pxi\n",
            "  Resolved https://github.com/afnan47/cuda.git to commit aac710a35f52bb78ab34d2e52517237941399eff\n",
            "  Preparing metadata (setup.py) ... \u001b[?25l\u001b[?25hdone\n",
            "Building wheels for collected packages: NVCCPlugin\n",
            "  Building wheel for NVCCPlugin (setup.py) ... \u001b[?25l\u001b[?25hdone\n",
            "  Created wheel for NVCCPlugin: filename=NVCCPlugin-0.0.2-py3-none-any.whl size=4289 sha256=d73d0fb869e099251747388c33943e5e581d818237bc33c6fe66b1a8ed2e3eae\n",
            "  Stored in directory: /tmp/pip-ephem-wheel-cache-47fowu0x/wheels/aa/f3/44/e10c1d226ec561d971fcd4b0463f6bff08602afa928a3e7bc7\n",
            "Successfully built NVCCPlugin\n",
            "Installing collected packages: NVCCPlugin\n",
            "Successfully installed NVCCPlugin-0.0.2\n"
          ]
        }
      ]
    },
    {
      "cell_type": "code",
      "source": [
        "%load_ext nvcc_plugin\n",
        ""
      ],
      "metadata": {
        "colab": {
          "base_uri": "https://localhost:8080/"
        },
        "id": "UNlv5hCgu4jy",
        "outputId": "dad0d925-2140-41c0-8e70-be8ffb97d143"
      },
      "execution_count": 3,
      "outputs": [
        {
          "output_type": "stream",
          "name": "stdout",
          "text": [
            "created output directory at /content/src\n",
            "Out bin /content/result.out\n"
          ]
        }
      ]
    },
    {
      "cell_type": "code",
      "source": [
        "%%writefile merge.cu\n",
        "#include <iostream>\n",
        "#include <chrono>\n",
        "\n",
        "// CUDA kernel for Bubble Sort\n",
        "__global__ void bubble_sort(int* d_arr, int size) {\n",
        "    int idx = blockIdx.x * blockDim.x + threadIdx.x; // Thread index\n",
        "    for (int i = 0; i < size - 1; i++) {\n",
        "        int j = idx + i; // Offset to perform the bubble sort step\n",
        "        if (j < size - 1 && d_arr[j] > d_arr[j + 1]) { // Swap if out of order\n",
        "            int temp = d_arr[j];\n",
        "            d_arr[j] = d_arr[j + 1];\n",
        "            d_arr[j + 1] = temp;\n",
        "        }\n",
        "        __syncthreads(); // Synchronize threads within block\n",
        "    }\n",
        "}\n",
        "\n",
        "// Function for Bubble Sort on CPU\n",
        "void bubble_sort_cpu(int* arr, int size) {\n",
        "    for (int i = 0; i < size - 1; i++) {\n",
        "        for (int j = 0; j < size - 1 - i; j++) {\n",
        "            if (arr[j] > arr[j + 1]) { // Swap if out of order\n",
        "                int temp = arr[j];\n",
        "                arr[j] = arr[j + 1];\n",
        "                arr[j + 1] = temp;\n",
        "            }\n",
        "        }\n",
        "    }\n",
        "}\n",
        "\n",
        "int main() {\n",
        "    int size;\n",
        "    std::cout << \"Enter the size of the array: \";\n",
        "    std::cin >> size;\n",
        "\n",
        "    // Allocate memory for the array\n",
        "    int* h_arr = new int[size];\n",
        "\n",
        "    // Input array elements from the user\n",
        "    std::cout << \"Enter \" << size << \" elements of the array: \";\n",
        "    for (int i = 0; i < size; i++) {\n",
        "        std::cin >> h_arr[i];\n",
        "    }\n",
        "\n",
        "    // Bubble Sort on CPU\n",
        "    auto start_cpu = std::chrono::high_resolution_clock::now();\n",
        "    bubble_sort_cpu(h_arr, size);\n",
        "    auto end_cpu = std::chrono::high_resolution_clock::now();\n",
        "    std::chrono::duration<double> duration_cpu = end_cpu - start_cpu;\n",
        "    std::cout << \"Sequential Bubble Sort took \" << duration_cpu.count() << \" seconds\\n\";\n",
        "\n",
        "    // Copying data to the device for parallel Bubble Sort\n",
        "    int* d_arr;\n",
        "    cudaMalloc(&d_arr, size * sizeof(int));\n",
        "    cudaMemcpy(d_arr, h_arr, size * sizeof(int), cudaMemcpyHostToDevice);\n",
        "\n",
        "    // Bubble Sort on GPU\n",
        "    auto start_gpu = std::chrono::high_resolution_clock::now();\n",
        "    int blockSize = 256; // Threads per block\n",
        "    int gridSize = (size + blockSize - 1) / blockSize; // Blocks\n",
        "    bubble_sort<<<gridSize, blockSize>>>(d_arr, size);\n",
        "    cudaDeviceSynchronize(); // Wait for GPU to finish\n",
        "    auto end_gpu = std::chrono::high_resolution_clock::now();\n",
        "    std::chrono::duration<double> duration_gpu = end_gpu - start_gpu;\n",
        "    std::cout << \"Parallel Bubble Sort took \" << duration_gpu.count() << \" seconds\\n\";\n",
        "\n",
        "    // Copying sorted data back to host\n",
        "    cudaMemcpy(h_arr, d_arr, size * sizeof(int), cudaMemcpyDeviceToHost);\n",
        "\n",
        "    // Display sorted array\n",
        "    std::cout << \"Sorted Array: \";\n",
        "    for (int i = 0; i < size; i++) {\n",
        "        std::cout << h_arr[i] << \" \";\n",
        "    }\n",
        "    std::cout << std::endl;\n",
        "\n",
        "    // Free device memory\n",
        "    cudaFree(d_arr);\n",
        "    // Free host memory\n",
        "    delete[] h_arr;\n",
        "\n",
        "    return 0;\n",
        "}\n"
      ],
      "metadata": {
        "colab": {
          "base_uri": "https://localhost:8080/"
        },
        "id": "9nhJuRZeu6Dk",
        "outputId": "22095168-d212-4c05-9421-64f94405d5e4"
      },
      "execution_count": 19,
      "outputs": [
        {
          "output_type": "stream",
          "name": "stdout",
          "text": [
            "Overwriting merge.cu\n"
          ]
        }
      ]
    },
    {
      "cell_type": "code",
      "source": [
        "!nvcc merge.cu -o merge"
      ],
      "metadata": {
        "id": "yCFDFOW-u_u-"
      },
      "execution_count": 20,
      "outputs": []
    },
    {
      "cell_type": "code",
      "source": [
        "!./merge"
      ],
      "metadata": {
        "colab": {
          "base_uri": "https://localhost:8080/"
        },
        "id": "QjSfQFcSu_26",
        "outputId": "d1571ba9-0411-43de-91a6-aa34ecddaa70"
      },
      "execution_count": 21,
      "outputs": [
        {
          "output_type": "stream",
          "name": "stdout",
          "text": [
            "Enter the size of the array: 7\n",
            "Enter 7 elements of the array: 64 34 25 12 22 11 90\n",
            "Sequential Bubble Sort took 4.81e-07 seconds\n",
            "Parallel Bubble Sort took 0.000252905 seconds\n",
            "Sorted Array: 11 12 22 25 34 64 90 \n"
          ]
        }
      ]
    }
  ]
}