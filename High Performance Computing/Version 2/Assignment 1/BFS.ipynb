{
  "nbformat": 4,
  "nbformat_minor": 0,
  "metadata": {
    "colab": {
      "provenance": [],
      "gpuType": "T4"
    },
    "kernelspec": {
      "name": "python3",
      "display_name": "Python 3"
    },
    "language_info": {
      "name": "python"
    },
    "accelerator": "GPU"
  },
  "cells": [
    {
      "cell_type": "code",
      "execution_count": 1,
      "metadata": {
        "colab": {
          "base_uri": "https://localhost:8080/"
        },
        "id": "wB7tG8rmyFpp",
        "outputId": "8067c45e-dd47-43d1-aa1c-880e0236950e"
      },
      "outputs": [
        {
          "output_type": "stream",
          "name": "stdout",
          "text": [
            "nvcc: NVIDIA (R) Cuda compiler driver\n",
            "Copyright (c) 2005-2023 NVIDIA Corporation\n",
            "Built on Tue_Aug_15_22:02:13_PDT_2023\n",
            "Cuda compilation tools, release 12.2, V12.2.140\n",
            "Build cuda_12.2.r12.2/compiler.33191640_0\n"
          ]
        }
      ],
      "source": [
        "!nvcc --version\n"
      ]
    },
    {
      "cell_type": "code",
      "source": [
        "!pip install git+https://github.com/afnan47/cuda.git"
      ],
      "metadata": {
        "colab": {
          "base_uri": "https://localhost:8080/"
        },
        "id": "tLDcwfwr0r2j",
        "outputId": "add5dc6c-ceb1-4d2b-aff7-99070e9238ae"
      },
      "execution_count": 2,
      "outputs": [
        {
          "output_type": "stream",
          "name": "stdout",
          "text": [
            "Collecting git+https://github.com/afnan47/cuda.git\n",
            "  Cloning https://github.com/afnan47/cuda.git to /tmp/pip-req-build-hahe2ywu\n",
            "  Running command git clone --filter=blob:none --quiet https://github.com/afnan47/cuda.git /tmp/pip-req-build-hahe2ywu\n",
            "  Resolved https://github.com/afnan47/cuda.git to commit aac710a35f52bb78ab34d2e52517237941399eff\n",
            "  Preparing metadata (setup.py) ... \u001b[?25l\u001b[?25hdone\n",
            "Building wheels for collected packages: NVCCPlugin\n",
            "  Building wheel for NVCCPlugin (setup.py) ... \u001b[?25l\u001b[?25hdone\n",
            "  Created wheel for NVCCPlugin: filename=NVCCPlugin-0.0.2-py3-none-any.whl size=4289 sha256=792bcc632ca29cbff4abf4c3d65c2b4b96ef80c61fe095e2a2f8c67b9b2ba696\n",
            "  Stored in directory: /tmp/pip-ephem-wheel-cache-swuxjq15/wheels/aa/f3/44/e10c1d226ec561d971fcd4b0463f6bff08602afa928a3e7bc7\n",
            "Successfully built NVCCPlugin\n",
            "Installing collected packages: NVCCPlugin\n",
            "Successfully installed NVCCPlugin-0.0.2\n"
          ]
        }
      ]
    },
    {
      "cell_type": "code",
      "source": [
        "%load_ext nvcc_plugin"
      ],
      "metadata": {
        "colab": {
          "base_uri": "https://localhost:8080/"
        },
        "id": "ZD9iHSLM0yEu",
        "outputId": "94d83bec-8ba2-41f7-e6e1-b5f771110029"
      },
      "execution_count": 3,
      "outputs": [
        {
          "output_type": "stream",
          "name": "stdout",
          "text": [
            "created output directory at /content/src\n",
            "Out bin /content/result.out\n"
          ]
        }
      ]
    },
    {
      "cell_type": "code",
      "source": [
        "%%writefile bfs.cu\n",
        "\n",
        "#include <iostream>\n",
        "#include <vector>\n",
        "#include <queue>\n",
        "#include <ctime>\n",
        "#include <cuda_runtime.h>\n",
        "\n",
        "using namespace std;\n",
        "\n",
        "int main()\n",
        "{\n",
        "    int num_vertices, num_edges, source;\n",
        "    cout << \"Enter number of vertices: \";\n",
        "    cin >> num_vertices;\n",
        "    cout << \"Enter number of edges: \";\n",
        "    cin >> num_edges;\n",
        "    cout << \"Enter source node: \";\n",
        "    cin >> source;\n",
        "\n",
        "    // Input validation\n",
        "    if (source < 1 || source > num_vertices)\n",
        "    {\n",
        "        cout << \"Invalid source node!\" << endl;\n",
        "        return 1;\n",
        "    }\n",
        "\n",
        "    vector<vector<int>> adj_list(num_vertices + 1);\n",
        "    cout << \"Enter the edges:\" << endl;\n",
        "    for (int i = 0; i < num_edges; i++)\n",
        "    {\n",
        "        int u, v;\n",
        "        cin >> u >> v;\n",
        "        // Input validation for edges\n",
        "        if (u < 1 || u > num_vertices || v < 1 || v > num_vertices)\n",
        "        {\n",
        "            cout << \"Invalid edge: \" << u << \" \" << v << endl;\n",
        "            return 1;\n",
        "        }\n",
        "        adj_list[u].push_back(v);\n",
        "        adj_list[v].push_back(u);\n",
        "    }\n",
        "\n",
        "    queue<int> q;\n",
        "    vector<bool> visited(num_vertices + 1, false);\n",
        "    q.push(source);\n",
        "    visited[source] = true;\n",
        "\n",
        "    // CUDA event creation for measuring execution time\n",
        "    cudaEvent_t start, stop;\n",
        "    cudaEventCreate(&start);\n",
        "    cudaEventCreate(&stop);\n",
        "    cudaEventRecord(start);\n",
        "\n",
        "    while (!q.empty())\n",
        "    {\n",
        "        int curr_vertex = q.front();\n",
        "        q.pop();\n",
        "        cout << curr_vertex << \" \";\n",
        "\n",
        "        // Sequential loop for neighbors\n",
        "        for (int i = 0; i < adj_list[curr_vertex].size(); i++)\n",
        "        {\n",
        "            int neighbour = adj_list[curr_vertex][i];\n",
        "            if (!visited[neighbour])\n",
        "            {\n",
        "                visited[neighbour] = true;\n",
        "                q.push(neighbour);\n",
        "            }\n",
        "        }\n",
        "    }\n",
        "\n",
        "    // Record and calculate execution time\n",
        "    cudaEventRecord(stop);\n",
        "    cudaEventSynchronize(stop);\n",
        "    float milliseconds = 0;\n",
        "    cudaEventElapsedTime(&milliseconds, start, stop);\n",
        "    cout << endl << \"Execution Time: \" << milliseconds << \" ms\" << endl;\n",
        "\n",
        "    // Cleanup\n",
        "    cudaEventDestroy(start);\n",
        "    cudaEventDestroy(stop);\n",
        "\n",
        "    return 0;\n",
        "}\n"
      ],
      "metadata": {
        "colab": {
          "base_uri": "https://localhost:8080/"
        },
        "id": "mnSFJZtN0y8D",
        "outputId": "fecce769-7dee-4136-a9a1-7177ce12e2eb"
      },
      "execution_count": 5,
      "outputs": [
        {
          "output_type": "stream",
          "name": "stdout",
          "text": [
            "Writing bfs.cu\n"
          ]
        }
      ]
    },
    {
      "cell_type": "code",
      "source": [
        "\n",
        "!nvcc bfs.cu -o bfs"
      ],
      "metadata": {
        "id": "YCL4YeIv01SG"
      },
      "execution_count": 6,
      "outputs": []
    },
    {
      "cell_type": "code",
      "source": [
        "!./bfs"
      ],
      "metadata": {
        "colab": {
          "base_uri": "https://localhost:8080/"
        },
        "id": "bDRBNhJ504qG",
        "outputId": "c7c71fb6-b8b2-4a4c-f96f-d91ea5aba959"
      },
      "execution_count": 7,
      "outputs": [
        {
          "output_type": "stream",
          "name": "stdout",
          "text": [
            "Enter number of vertices: 5\n",
            "Enter number of edges: 4\n",
            "Enter source node: 1\n",
            "Enter the edges:\n",
            "1 2\n",
            "1 3\n",
            "2 4\n",
            "3 5\n",
            "1 2 3 4 5 \n",
            "Execution Time: 0.0184 ms\n"
          ]
        }
      ]
    }
  ]
}