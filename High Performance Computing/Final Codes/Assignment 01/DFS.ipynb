{
  "nbformat": 4,
  "nbformat_minor": 0,
  "metadata": {
    "colab": {
      "provenance": [],
      "gpuType": "T4"
    },
    "kernelspec": {
      "name": "python3",
      "display_name": "Python 3"
    },
    "language_info": {
      "name": "python"
    },
    "accelerator": "GPU"
  },
  "cells": [
    {
      "cell_type": "code",
      "execution_count": 1,
      "metadata": {
        "colab": {
          "base_uri": "https://localhost:8080/"
        },
        "id": "Efe3DtSe2QRs",
        "outputId": "68d4b7d6-b456-4397-8a63-452a3e468142"
      },
      "outputs": [
        {
          "output_type": "stream",
          "name": "stdout",
          "text": [
            "nvcc: NVIDIA (R) Cuda compiler driver\n",
            "Copyright (c) 2005-2023 NVIDIA Corporation\n",
            "Built on Tue_Aug_15_22:02:13_PDT_2023\n",
            "Cuda compilation tools, release 12.2, V12.2.140\n",
            "Build cuda_12.2.r12.2/compiler.33191640_0\n"
          ]
        }
      ],
      "source": [
        "!nvcc --version"
      ]
    },
    {
      "cell_type": "code",
      "source": [
        "!pip install git+https://github.com/afnan47/cuda.git"
      ],
      "metadata": {
        "colab": {
          "base_uri": "https://localhost:8080/"
        },
        "id": "4_zD1oYP3gpJ",
        "outputId": "46db492e-e581-479d-da52-03bfefd72c32"
      },
      "execution_count": 2,
      "outputs": [
        {
          "output_type": "stream",
          "name": "stdout",
          "text": [
            "Collecting git+https://github.com/afnan47/cuda.git\n",
            "  Cloning https://github.com/afnan47/cuda.git to /tmp/pip-req-build-3sulyfo8\n",
            "  Running command git clone --filter=blob:none --quiet https://github.com/afnan47/cuda.git /tmp/pip-req-build-3sulyfo8\n",
            "  Resolved https://github.com/afnan47/cuda.git to commit aac710a35f52bb78ab34d2e52517237941399eff\n",
            "  Preparing metadata (setup.py) ... \u001b[?25l\u001b[?25hdone\n",
            "Building wheels for collected packages: NVCCPlugin\n",
            "  Building wheel for NVCCPlugin (setup.py) ... \u001b[?25l\u001b[?25hdone\n",
            "  Created wheel for NVCCPlugin: filename=NVCCPlugin-0.0.2-py3-none-any.whl size=4289 sha256=096dc1539712660b4e0a495f4859f384eabbf2df343ea359f1d744b788a7f09e\n",
            "  Stored in directory: /tmp/pip-ephem-wheel-cache-bg1uivg_/wheels/aa/f3/44/e10c1d226ec561d971fcd4b0463f6bff08602afa928a3e7bc7\n",
            "Successfully built NVCCPlugin\n",
            "Installing collected packages: NVCCPlugin\n",
            "Successfully installed NVCCPlugin-0.0.2\n"
          ]
        }
      ]
    },
    {
      "cell_type": "code",
      "source": [
        "%load_ext nvcc_plugin"
      ],
      "metadata": {
        "colab": {
          "base_uri": "https://localhost:8080/"
        },
        "id": "DGXHugzC3k-h",
        "outputId": "ce668199-5366-4539-ba46-43ac0e050d96"
      },
      "execution_count": 3,
      "outputs": [
        {
          "output_type": "stream",
          "name": "stdout",
          "text": [
            "created output directory at /content/src\n",
            "Out bin /content/result.out\n"
          ]
        }
      ]
    },
    {
      "cell_type": "markdown",
      "source": [
        "%%writefile depthfirst.cu"
      ],
      "metadata": {
        "id": "N3235EBNBxod"
      }
    },
    {
      "cell_type": "code",
      "source": [
        "%%writefile dfs.cu\n",
        "\n",
        "#include <iostream>\n",
        "#include <vector>\n",
        "#include <stack>\n",
        "#include <cuda_runtime.h>\n",
        "\n",
        "using namespace std;\n",
        "\n",
        "__global__ void dfs_kernel(int *adj_list, int *visited, int num_vertices, int source) {\n",
        "    int thread_id = threadIdx.x + blockIdx.x * blockDim.x;\n",
        "\n",
        "    if (thread_id == 0) {\n",
        "        int stack[1024]; // Assuming maximum stack size of 1024\n",
        "        int top = -1;\n",
        "\n",
        "        stack[++top] = source;\n",
        "        visited[source] = 1;\n",
        "\n",
        "        while (top >= 0) {\n",
        "            int curr_vertex = stack[top--];\n",
        "            printf(\"%d \", curr_vertex);\n",
        "\n",
        "            for (int i = 0; i < num_vertices; ++i) {\n",
        "                int neighbour = adj_list[curr_vertex * num_vertices + i];\n",
        "                if (neighbour && !visited[i]) {\n",
        "                    visited[i] = 1;\n",
        "                    stack[++top] = i;\n",
        "                }\n",
        "            }\n",
        "        }\n",
        "    }\n",
        "}\n",
        "\n",
        "\n",
        "\n",
        "int main() {\n",
        "    int num_vertices, num_edges, source;\n",
        "    cout << \"Enter number of vertices: \";\n",
        "    cin >> num_vertices;\n",
        "    cout << \"Enter number of edges: \";\n",
        "    cin >> num_edges;\n",
        "    cout << \"Enter source node: \";\n",
        "    cin >> source;\n",
        "\n",
        "    // Input validation\n",
        "    if (source < 0 || source >= num_vertices) {\n",
        "        cout << \"Invalid source node!\" << endl;\n",
        "        return 1;\n",
        "    }\n",
        "\n",
        "    vector<int> adj_list(num_vertices * num_vertices, 0);\n",
        "    cout << \"Enter the edges:\" << endl;\n",
        "    for (int i = 0; i < num_edges; i++) {\n",
        "        int u, v;\n",
        "        cin >> u >> v;\n",
        "        // Input validation for edges\n",
        "        if (u < 0 || u >= num_vertices || v < 0 || v >= num_vertices) {\n",
        "            cout << \"Invalid edge: \" << u << \" \" << v << endl;\n",
        "            return 1;\n",
        "        }\n",
        "        adj_list[u * num_vertices + v] = 1;\n",
        "        adj_list[v * num_vertices + u] = 1;\n",
        "    }\n",
        "\n",
        "    int *d_adj_list, *d_visited;\n",
        "    cudaMalloc((void **)&d_adj_list, num_vertices * num_vertices * sizeof(int));\n",
        "    cudaMalloc((void **)&d_visited, num_vertices * sizeof(int));\n",
        "\n",
        "    cudaMemcpy(d_adj_list, &adj_list[0], num_vertices * num_vertices * sizeof(int), cudaMemcpyHostToDevice);\n",
        "\n",
        "    int *visited = new int[num_vertices];\n",
        "    for (int i = 0; i < num_vertices; i++) {\n",
        "        visited[i] = 0;\n",
        "    }\n",
        "\n",
        "    cudaMemcpy(d_visited, visited, num_vertices * sizeof(int), cudaMemcpyHostToDevice);\n",
        "\n",
        "    // CUDA event creation for measuring execution time\n",
        "    cudaEvent_t start, stop;\n",
        "    cudaEventCreate(&start);\n",
        "    cudaEventCreate(&stop);\n",
        "    cudaEventRecord(start);\n",
        "\n",
        "    // Launch DFS kernel\n",
        "    dfs_kernel<<<1, 1>>>(d_adj_list, d_visited, num_vertices, source);\n",
        "\n",
        "    // Record and calculate execution time\n",
        "    cudaEventRecord(stop);\n",
        "    cudaEventSynchronize(stop);\n",
        "    float milliseconds = 0;\n",
        "    cudaEventElapsedTime(&milliseconds, start, stop);\n",
        "    cout << endl << \"Execution Time: \" << milliseconds << \" ms\" << endl;\n",
        "\n",
        "    // Cleanup\n",
        "    cudaEventDestroy(start);\n",
        "    cudaEventDestroy(stop);\n",
        "    cudaFree(d_adj_list);\n",
        "    cudaFree(d_visited);\n",
        "    delete[] visited;\n",
        "\n",
        "    return 0;\n",
        "}\n"
      ],
      "metadata": {
        "colab": {
          "base_uri": "https://localhost:8080/"
        },
        "id": "wkcPrp_73nj7",
        "outputId": "17f905bc-a2ec-4e50-e780-4da8e2d52166"
      },
      "execution_count": 10,
      "outputs": [
        {
          "output_type": "stream",
          "name": "stdout",
          "text": [
            "Overwriting dfs.cu\n"
          ]
        }
      ]
    },
    {
      "cell_type": "code",
      "source": [
        "!nvcc dfs.cu -o dfs\n"
      ],
      "metadata": {
        "id": "B6jz-HfW4v4_"
      },
      "execution_count": 11,
      "outputs": []
    },
    {
      "cell_type": "code",
      "source": [
        "!./dfs"
      ],
      "metadata": {
        "colab": {
          "base_uri": "https://localhost:8080/"
        },
        "id": "fRmIXtAy4wAU",
        "outputId": "40e634d1-c908-4e14-f033-1365495f8461"
      },
      "execution_count": 13,
      "outputs": [
        {
          "output_type": "stream",
          "name": "stdout",
          "text": [
            "Enter number of vertices: 6\n",
            "Enter number of edges: 6\n",
            "Enter source node: 0\n",
            "Enter the edges:\n",
            "0 1\n",
            "0 2\n",
            "1 3\n",
            "1 4\n",
            "2 4\n",
            "2 5\n",
            "0 2 5 4 1 3 \n",
            "Execution Time: 127.992 ms\n"
          ]
        }
      ]
    }
  ]
}