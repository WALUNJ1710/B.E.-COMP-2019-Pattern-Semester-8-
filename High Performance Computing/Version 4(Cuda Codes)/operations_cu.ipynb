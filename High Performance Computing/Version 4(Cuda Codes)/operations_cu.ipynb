{
  "nbformat": 4,
  "nbformat_minor": 0,
  "metadata": {
    "colab": {
      "provenance": [],
      "gpuType": "T4"
    },
    "kernelspec": {
      "name": "python3",
      "display_name": "Python 3"
    },
    "language_info": {
      "name": "python"
    },
    "accelerator": "GPU"
  },
  "cells": [
    {
      "cell_type": "code",
      "execution_count": null,
      "metadata": {
        "colab": {
          "base_uri": "https://localhost:8080/"
        },
        "id": "eK-mO2OR6CK3",
        "outputId": "3424d32b-4bce-4dfd-8156-1f9d78f743d8"
      },
      "outputs": [
        {
          "output_type": "stream",
          "name": "stdout",
          "text": [
            "Writing operation.cu\n"
          ]
        }
      ],
      "source": [
        "%%writefile operation.cu\n",
        "\n",
        "#include <iostream>\n",
        "#include <cuda_runtime.h>\n",
        "#include <algorithm> // For min and max operations\n",
        "#include <vector>\n",
        "\n",
        "using namespace std;\n",
        "\n",
        "// CUDA device function for reduction to find minimum value\n",
        "__global__ void min_reduction(int* d_arr, int* d_result, int size) {\n",
        "    extern __shared__ int sdata[];\n",
        "    int tid = threadIdx.x;\n",
        "    int global_id = blockIdx.x * blockDim.x + threadIdx.x;\n",
        "\n",
        "    // Load data into shared memory\n",
        "    if (global_id < size) {\n",
        "        sdata[tid] = d_arr[global_id];\n",
        "    } else {\n",
        "        sdata[tid] = INT_MAX;\n",
        "    }\n",
        "    __syncthreads();\n",
        "\n",
        "    // Reduction to find minimum\n",
        "    for (int stride = blockDim.x / 2; stride > 0; stride >>= 1) {\n",
        "        if (tid < stride && global_id + stride < size) {\n",
        "            sdata[tid] = min(sdata[tid], sdata[tid + stride]);\n",
        "        }\n",
        "        __syncthreads();\n",
        "    }\n",
        "\n",
        "    // Store the result from the first thread in each block\n",
        "    if (tid == 0) {\n",
        "        d_result[blockIdx.x] = sdata[0];\n",
        "    }\n",
        "}\n",
        "\n",
        "// CUDA device function for reduction to find maximum value\n",
        "__global__ void max_reduction(int* d_arr, int* d_result, int size) {\n",
        "    extern __shared__ int sdata[];\n",
        "    int tid = threadIdx.x;\n",
        "    int global_id = blockIdx.x * blockDim.x + threadIdx.x;\n",
        "\n",
        "    // Load data into shared memory\n",
        "    if (global_id < size) {\n",
        "        sdata[tid] = d_arr[global_id];\n",
        "    } else {\n",
        "        sdata[tid] = INT_MIN;\n",
        "    }\n",
        "    __syncthreads();\n",
        "\n",
        "    // Reduction to find maximum\n",
        "    for (int stride = blockDim.x / 2; stride > 0; stride >>= 1) {\n",
        "        if (tid < stride && global_id + stride < size) {\n",
        "            sdata[tid] = max(sdata[tid], sdata[tid + stride]);\n",
        "        }\n",
        "        __syncthreads();\n",
        "    }\n",
        "\n",
        "    // Store the result from the first thread in each block\n",
        "    if (tid == 0) {\n",
        "        d_result[blockIdx.x] = sdata[0];\n",
        "    }\n",
        "}\n",
        "\n",
        "// CUDA device function for reduction to find sum\n",
        "__global__ void sum_reduction(int* d_arr, int* d_result, int size) {\n",
        "    extern __shared__ int sdata[];\n",
        "    int tid = threadIdx.x;\n",
        "    int global_id = blockIdx.x * blockDim.x + threadIdx.x;\n",
        "\n",
        "    // Load data into shared memory\n",
        "    if (global_id < size) {\n",
        "        sdata[tid] = d_arr[global_id];\n",
        "    } else {\n",
        "        sdata[tid] = 0;\n",
        "    }\n",
        "    __syncthreads();\n",
        "\n",
        "    // Reduction to find sum\n",
        "    for (int stride = blockDim.x / 2; stride > 0; stride >>= 1) {\n",
        "        if (tid < stride && global_id + stride < size) {\n",
        "            sdata[tid] += sdata[tid + stride];\n",
        "        }\n",
        "        __syncthreads();\n",
        "    }\n",
        "\n",
        "    // Store the result from the first thread in each block\n",
        "    if (tid == 0) {\n",
        "        d_result[blockIdx.x] = sdata[0];\n",
        "    }\n",
        "}\n",
        "\n",
        "// Function to calculate the final reduction on the host\n",
        "int final_reduction(int* d_result, int size, int (*op)(int, int)) {\n",
        "    std::vector<int> h_result(size);\n",
        "    cudaMemcpy(h_result.data(), d_result, size * sizeof(int), cudaMemcpyDeviceToHost);\n",
        "\n",
        "    // Perform final reduction on the host\n",
        "    int final_result = h_result[0];\n",
        "    for (int i = 1; i < size; i++) {\n",
        "        final_result = op(final_result, h_result[i]);\n",
        "    }\n",
        "\n",
        "    return final_result;\n",
        "}\n",
        "\n",
        "int main() {\n",
        "    int n = 5;\n",
        "    int arr[] = {1, 2, 3, 4, 5};\n",
        "\n",
        "    // Allocate memory on the GPU\n",
        "    int* d_arr;\n",
        "    cudaMalloc(&d_arr, n * sizeof(int));\n",
        "    cudaMemcpy(d_arr, arr, n * sizeof(int), cudaMemcpyHostToDevice);\n",
        "\n",
        "    int blockSize = 256;\n",
        "    int gridSize = (n + blockSize - 1) / blockSize;\n",
        "\n",
        "   // Minimum value\n",
        "    int* d_min_result;\n",
        "    cudaMalloc(&d_min_result, gridSize * sizeof(int));\n",
        "    min_reduction<<<gridSize, blockSize, blockSize * sizeof(int)>>>(d_arr, d_min_result, n);\n",
        "    int minval = final_reduction(d_min_result, gridSize, [](int a, int b) { return std::min(a, b); });\n",
        "\n",
        "\n",
        "    // Maximum value\n",
        "    int* d_max_result;\n",
        "    cudaMalloc(&d_max_result, gridSize * sizeof(int));\n",
        "    max_reduction<<<gridSize, blockSize, blockSize * sizeof(int)>>>(d_arr, d_max_result, n);\n",
        "    int maxval = final_reduction(d_max_result, gridSize, [](int a, int b) { return std::max(a, b); });\n",
        "\n",
        "    // Summation\n",
        "    int* d_sum_result;\n",
        "    cudaMalloc(&d_sum_result, gridSize * sizeof(int));\n",
        "    sum_reduction<<<gridSize, blockSize, blockSize * sizeof(int)>>>(d_arr, d_sum_result, n);\n",
        "    int sumval = final_reduction(d_sum_result, gridSize, [](int a, int b) { return a + b; });\n",
        "\n",
        "\n",
        "    // Calculate average on the host\n",
        "    double average = (double)sumval / n;\n",
        "\n",
        "    std::cout << \"The minimum value is: \" << minval << std::endl;\n",
        "    std::cout << \"The maximum value is: \" << maxval << std::endl;\n",
        "    std::cout << \"The summation is: \" << sumval << std::endl;\n",
        "    std::cout << \"The average is: \" << average << std::endl;\n",
        "\n",
        "    cudaFree(d_arr);\n",
        "    cudaFree(d_min_result);\n",
        "    cudaFree(d_max_result);\n",
        "    cudaFree(d_sum_result);\n",
        "\n",
        "    return 0;\n",
        "}"
      ]
    },
    {
      "cell_type": "code",
      "source": [
        "!nvcc operation.cu -o oper"
      ],
      "metadata": {
        "id": "LksGCJFb6JPh"
      },
      "execution_count": null,
      "outputs": []
    },
    {
      "cell_type": "code",
      "source": [
        "!./oper"
      ],
      "metadata": {
        "colab": {
          "base_uri": "https://localhost:8080/"
        },
        "id": "hcimPWUa6XPy",
        "outputId": "b7406c27-f486-4336-b7f3-fe3d57acdfae"
      },
      "execution_count": null,
      "outputs": [
        {
          "output_type": "stream",
          "name": "stdout",
          "text": [
            "The minimum value is: 1\n",
            "The maximum value is: 5\n",
            "The summation is: 15\n",
            "The average is: 3\n"
          ]
        }
      ]
    },
    {
      "cell_type": "code",
      "source": [],
      "metadata": {
        "id": "ZRSDFGMy6Zb4"
      },
      "execution_count": null,
      "outputs": []
    }
  ]
}