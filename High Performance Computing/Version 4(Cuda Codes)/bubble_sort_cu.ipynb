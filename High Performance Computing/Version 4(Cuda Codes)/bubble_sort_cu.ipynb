{
  "nbformat": 4,
  "nbformat_minor": 0,
  "metadata": {
    "colab": {
      "provenance": [],
      "gpuType": "T4"
    },
    "kernelspec": {
      "name": "python3",
      "display_name": "Python 3"
    },
    "language_info": {
      "name": "python"
    },
    "accelerator": "GPU"
  },
  "cells": [
    {
      "cell_type": "code",
      "execution_count": null,
      "metadata": {
        "colab": {
          "base_uri": "https://localhost:8080/"
        },
        "id": "cwFwLsnEWs2V",
        "outputId": "c864ed9a-a158-4568-b281-738f3cbec8ef"
      },
      "outputs": [
        {
          "output_type": "stream",
          "name": "stdout",
          "text": [
            "Writing bubblesort.cu\n"
          ]
        }
      ],
      "source": [
        "%%writefile bubblesort.cu\n",
        "\n",
        "#include <iostream>\n",
        "#include <vector>\n",
        "#include <chrono>\n",
        "#include <cuda_runtime.h>\n",
        "\n",
        "\n",
        "// CUDA kernel for Bubble Sort\n",
        "__global__ void bubble_sort(int* d_arr, int size) {\n",
        "    int idx = blockIdx.x * blockDim.x + threadIdx.x; // Thread index\n",
        "    for (int i = 0; i < size - 1; i++) {\n",
        "        int j = idx + i; // Offset to perform the bubble sort step\n",
        "        if (j < size - 1 && d_arr[j] > d_arr[j + 1]) { // Swap if out of order\n",
        "            int temp = d_arr[j];\n",
        "            d_arr[j] = d_arr[j + 1];\n",
        "            d_arr[j + 1] = temp;\n",
        "        }\n",
        "        __syncthreads(); // Synchronize threads within block\n",
        "    }\n",
        "}\n",
        "\n",
        "// Function for Bubble Sort on CPU\n",
        "void bubble_sort_cpu(int* arr, int size) {\n",
        "    for (int i = 0; i < size - 1; i++) {\n",
        "        for (int j = 0; j < size - 1 - i; j++) {\n",
        "            if (arr[j] > arr[j + 1]) { // Swap if out of order\n",
        "                int temp = arr[j];\n",
        "                arr[j] = arr[j + 1];\n",
        "                arr[j + 1] = temp;\n",
        "            }\n",
        "        }\n",
        "    }\n",
        "}\n",
        "\n",
        "int main() {\n",
        "    // Test data\n",
        "    int h_arr[] = {64, 34, 25, 12, 22, 11, 90};\n",
        "    int size = sizeof(h_arr) / sizeof(h_arr[0]);\n",
        "\n",
        "    // Bubble Sort on CPU\n",
        "    auto start = std::chrono::high_resolution_clock::now();\n",
        "    bubble_sort_cpu(h_arr, size);\n",
        "    auto end = std::chrono::high_resolution_clock::now();\n",
        "    std::chrono::duration<double> duration = end - start;\n",
        "    std::cout << \"Sequential Bubble Sort took \" << duration.count() << \" seconds\\n\";\n",
        "\n",
        "    // Copying data to the device for parallel Bubble Sort\n",
        "    int* d_arr;\n",
        "    cudaMalloc(&d_arr, size * sizeof(int));\n",
        "    cudaMemcpy(d_arr, h_arr, size * sizeof(int), cudaMemcpyHostToDevice);\n",
        "\n",
        "    // Bubble Sort on GPU\n",
        "    start = std::chrono::high_resolution_clock::now();\n",
        "    int blockSize = 256; // Threads per block\n",
        "    int gridSize = (size + blockSize - 1) / blockSize; // Blocks\n",
        "    bubble_sort<<<gridSize, blockSize>>>(d_arr, size);\n",
        "    cudaMemcpy(h_arr, d_arr, size * sizeof(int), cudaMemcpyDeviceToHost); // Copy back to host\n",
        "    end = std::chrono::high_resolution_clock::now();\n",
        "    duration = end - start;\n",
        "    std::cout << \"Parallel Bubble Sort took \" << duration.count() << \" seconds\\n\";\n",
        "\n",
        "    // Display sorted array\n",
        "    std::cout << \"Sorted Array: \";\n",
        "    for (int i = 0; i < size; i++) {\n",
        "        std::cout << h_arr[i] << \" \";\n",
        "    }\n",
        "    std::cout << std::endl;\n",
        "\n",
        "    // Free device memory\n",
        "    cudaFree(d_arr);\n",
        "\n",
        "    return 0;\n",
        "}"
      ]
    },
    {
      "cell_type": "code",
      "source": [
        "!nvcc bubblesort.cu -o bub"
      ],
      "metadata": {
        "id": "LO1qmhpQW7zL"
      },
      "execution_count": null,
      "outputs": []
    },
    {
      "cell_type": "code",
      "source": [
        "!./bub"
      ],
      "metadata": {
        "colab": {
          "base_uri": "https://localhost:8080/"
        },
        "id": "JBjn9RldXFjz",
        "outputId": "1a3a62c5-394e-4335-9f36-d6435a401ff2"
      },
      "execution_count": null,
      "outputs": [
        {
          "output_type": "stream",
          "name": "stdout",
          "text": [
            "Sequential Bubble Sort took 4.38e-07 seconds\n",
            "Parallel Bubble Sort took 0.119287 seconds\n",
            "Sorted Array: 11 12 22 25 34 64 90 \n"
          ]
        }
      ]
    },
    {
      "cell_type": "code",
      "source": [],
      "metadata": {
        "id": "CmqxFrN4XROQ"
      },
      "execution_count": null,
      "outputs": []
    }
  ]
}