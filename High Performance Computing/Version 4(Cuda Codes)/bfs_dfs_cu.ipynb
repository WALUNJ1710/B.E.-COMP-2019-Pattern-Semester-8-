{
  "nbformat": 4,
  "nbformat_minor": 0,
  "metadata": {
    "colab": {
      "provenance": [],
      "gpuType": "T4"
    },
    "kernelspec": {
      "name": "python3",
      "display_name": "Python 3"
    },
    "language_info": {
      "name": "python"
    },
    "accelerator": "GPU"
  },
  "cells": [
    {
      "cell_type": "code",
      "execution_count": null,
      "metadata": {
        "colab": {
          "base_uri": "https://localhost:8080/"
        },
        "id": "n19vksnkRP7w",
        "outputId": "5c6fafdc-dd7f-49f1-f5ed-7b5e2cf2f6ab"
      },
      "outputs": [
        {
          "output_type": "stream",
          "name": "stdout",
          "text": [
            "Overwriting graph_traversal.cu\n"
          ]
        }
      ],
      "source": [
        "%%writefile graph_traversal.cu\n",
        "#include <iostream>\n",
        "#include <queue>\n",
        "#include <stack>\n",
        "\n",
        "using namespace std;\n",
        "\n",
        "#define V 6  // Number of vertices\n",
        "\n",
        "\n",
        "__device__ int adj_matrix[V][V] = {\n",
        "    {0, 0, 1, 1, 0},\n",
        "    {0, 0, 1, 0, 1},\n",
        "    {1, 1, 0, 0, 0},\n",
        "    {1, 1, 0, 0, 1},\n",
        "    {0, 1, 0, 1, 0},\n",
        "};\n",
        "\n",
        "__global__ void cudaBFS(int* visited, int start) {\n",
        "    if (threadIdx.x == 0 && blockIdx.x == 0) {\n",
        "        visited[start] = 1;\n",
        "        printf(\"%d \", start); // Print the start vertex\n",
        "\n",
        "        int queue[V];\n",
        "        int front = 0, rear = 0;\n",
        "        queue[rear++] = start;\n",
        "\n",
        "        while (front < rear) {\n",
        "            int current = queue[front++];\n",
        "\n",
        "            for (int j = 0; j < V; ++j) {\n",
        "                if (adj_matrix[current][j] && !visited[j]) {\n",
        "                    visited[j] = 1;\n",
        "                    printf(\"%d \", j); // Print the visited vertex\n",
        "                    queue[rear++] = j;\n",
        "                }\n",
        "            }\n",
        "        }\n",
        "    }\n",
        "}\n",
        "\n",
        "\n",
        "__device__ void recursiveDFS(int* visited, int vertex) {\n",
        "    visited[vertex] = 1;\n",
        "    printf(\"%d \", vertex); // Print the current vertex\n",
        "\n",
        "    for (int j = 0; j < V; ++j) {\n",
        "        if (adj_matrix[vertex][j] && !visited[j]) {\n",
        "            recursiveDFS(visited, j);\n",
        "        }\n",
        "    }\n",
        "}\n",
        "\n",
        "__global__ void cudaDFS(int* visited, int start) {\n",
        "    recursiveDFS(visited, start);\n",
        "}\n",
        "\n",
        "\n",
        "\n",
        "int main() {\n",
        "    int start_vertex = 0;  // Starting vertex for traversal\n",
        "\n",
        "    // Allocate memory for visited array on the host and initialize with zeros\n",
        "    int* visited = new int[V];\n",
        "    for (int i = 0; i < V; ++i) {\n",
        "        visited[i] = 0;\n",
        "    }\n",
        "\n",
        "    // Allocate memory for visited array on the device\n",
        "    int* d_visited;\n",
        "    cudaMalloc((void**)&d_visited, V * sizeof(int));\n",
        "    cudaMemcpy(d_visited, visited, V * sizeof(int), cudaMemcpyHostToDevice);\n",
        "\n",
        "    // Breadth-First Search (BFS)\n",
        "    cout << \"BFS traversal: \";\n",
        "    cudaBFS<<<1, V>>>(d_visited, start_vertex);\n",
        "    cudaMemcpy(visited, d_visited, V * sizeof(int), cudaMemcpyDeviceToHost);\n",
        "    cout << endl;\n",
        "\n",
        "    // Reset visited array\n",
        "    for (int i = 0; i < V; ++i) {\n",
        "        visited[i] = 0;\n",
        "    }\n",
        "    cudaMemcpy(d_visited, visited, V * sizeof(int), cudaMemcpyHostToDevice);\n",
        "\n",
        "    // Depth-First Search (DFS)\n",
        "    cout << \"DFS traversal: \";\n",
        "    cudaDFS<<<1, 1>>>(d_visited, start_vertex);\n",
        "    cudaMemcpy(visited, d_visited, V * sizeof(int), cudaMemcpyDeviceToHost);\n",
        "    cout << endl;\n",
        "\n",
        "    // Free device memory\n",
        "    cudaFree(d_visited);\n",
        "\n",
        "    // Clean up host memory\n",
        "    delete[] visited;\n",
        "\n",
        "    return 0;\n",
        "}\n"
      ]
    },
    {
      "cell_type": "code",
      "source": [
        "!nvcc graph_traversal.cu -o bfs"
      ],
      "metadata": {
        "colab": {
          "base_uri": "https://localhost:8080/"
        },
        "id": "vDSvALF1RZqj",
        "outputId": "acca8867-6b33-4b39-9047-cccd15bc5a65"
      },
      "execution_count": null,
      "outputs": [
        {
          "output_type": "stream",
          "name": "stdout",
          "text": [
            "ptxas warning : Stack size for entry function '_Z7cudaDFSPii' cannot be statically determined\n"
          ]
        }
      ]
    },
    {
      "cell_type": "code",
      "source": [
        "!./bfs"
      ],
      "metadata": {
        "colab": {
          "base_uri": "https://localhost:8080/"
        },
        "id": "iZHt_I1WRnGj",
        "outputId": "fc7f08ce-97e5-43b6-f298-8ddd700245b1"
      },
      "execution_count": null,
      "outputs": [
        {
          "output_type": "stream",
          "name": "stdout",
          "text": [
            "BFS traversal: 0 2 3 1 4 \n",
            "DFS traversal: 0 2 1 4 3 \n"
          ]
        }
      ]
    },
    {
      "cell_type": "code",
      "source": [],
      "metadata": {
        "colab": {
          "base_uri": "https://localhost:8080/"
        },
        "id": "xL5hT1k1Rq0_",
        "outputId": "6b210551-0532-4bef-af02-35809662692d"
      },
      "execution_count": null,
      "outputs": [
        {
          "output_type": "stream",
          "name": "stdout",
          "text": [
            "Overwriting graph.cu\n"
          ]
        }
      ]
    },
    {
      "cell_type": "code",
      "source": [],
      "metadata": {
        "colab": {
          "base_uri": "https://localhost:8080/"
        },
        "id": "a_TdS50OAHC1",
        "outputId": "1e667f98-1b1e-4ee1-d7d7-5a3c9a9aeb6d"
      },
      "execution_count": null,
      "outputs": [
        {
          "output_type": "stream",
          "name": "stdout",
          "text": [
            "ptxas warning : Stack size for entry function '_Z7cudaDFSPiS_iiS_' cannot be statically determined\n"
          ]
        }
      ]
    },
    {
      "cell_type": "code",
      "source": [],
      "metadata": {
        "colab": {
          "base_uri": "https://localhost:8080/"
        },
        "id": "LmGBsHkrANd2",
        "outputId": "4848bdf6-4ac3-43ab-ddd9-7a28bae040ff"
      },
      "execution_count": null,
      "outputs": [
        {
          "output_type": "stream",
          "name": "stdout",
          "text": [
            "Enter the number of vertices: 3\n",
            "Enter the number of edges: 3\n",
            "Enter edges (format: source destination):\n",
            "0 1\n",
            "1 2\n",
            "0 1\n",
            "Adjacency matrix:\n",
            "0 1 0 \n",
            "1 0 1 \n",
            "0 1 0 \n",
            "BFS traversal: \n",
            "DFS traversal: \n"
          ]
        }
      ]
    },
    {
      "cell_type": "code",
      "source": [],
      "metadata": {
        "id": "GYb-tk4EA5kG"
      },
      "execution_count": null,
      "outputs": []
    }
  ]
}